{
 "cells": [
  {
   "cell_type": "markdown",
   "metadata": {},
   "source": [
    "# KV Data Cleanup"
   ]
  },
  {
   "cell_type": "markdown",
   "metadata": {},
   "source": [
    "## Starting up"
   ]
  },
  {
   "cell_type": "code",
   "execution_count": 1,
   "metadata": {},
   "outputs": [
    {
     "name": "stdout",
     "output_type": "stream",
     "text": [
      "Defaulting to user installation because normal site-packages is not writeable\n",
      "Requirement already satisfied: matplotlib in c:\\users\\rt\\appdata\\roaming\\python\\python312\\site-packages (3.9.2)\n",
      "Requirement already satisfied: contourpy>=1.0.1 in c:\\users\\rt\\appdata\\roaming\\python\\python312\\site-packages (from matplotlib) (1.3.0)\n",
      "Requirement already satisfied: cycler>=0.10 in c:\\users\\rt\\appdata\\roaming\\python\\python312\\site-packages (from matplotlib) (0.12.1)\n",
      "Requirement already satisfied: fonttools>=4.22.0 in c:\\users\\rt\\appdata\\roaming\\python\\python312\\site-packages (from matplotlib) (4.53.1)\n",
      "Requirement already satisfied: kiwisolver>=1.3.1 in c:\\users\\rt\\appdata\\roaming\\python\\python312\\site-packages (from matplotlib) (1.4.7)\n",
      "Requirement already satisfied: numpy>=1.23 in c:\\users\\rt\\appdata\\roaming\\python\\python312\\site-packages (from matplotlib) (2.0.2)\n",
      "Requirement already satisfied: packaging>=20.0 in c:\\python312\\lib\\site-packages (from matplotlib) (24.0)\n",
      "Requirement already satisfied: pillow>=8 in c:\\users\\rt\\appdata\\roaming\\python\\python312\\site-packages (from matplotlib) (10.4.0)\n",
      "Requirement already satisfied: pyparsing>=2.3.1 in c:\\users\\rt\\appdata\\roaming\\python\\python312\\site-packages (from matplotlib) (3.1.4)\n",
      "Requirement already satisfied: python-dateutil>=2.7 in c:\\python312\\lib\\site-packages (from matplotlib) (2.9.0.post0)\n",
      "Requirement already satisfied: six>=1.5 in c:\\python312\\lib\\site-packages (from python-dateutil>=2.7->matplotlib) (1.16.0)\n",
      "Note: you may need to restart the kernel to use updated packages.\n"
     ]
    }
   ],
   "source": [
    "%pip install matplotlib"
   ]
  },
  {
   "cell_type": "code",
   "execution_count": 2,
   "metadata": {},
   "outputs": [],
   "source": [
    "import pandas as pd\n",
    "import numpy as np\n",
    "import matplotlib.pyplot as plt"
   ]
  },
  {
   "cell_type": "code",
   "execution_count": 3,
   "metadata": {},
   "outputs": [],
   "source": [
    "data = pd.read_csv(\"kv-rent-data-16-11-2024.csv\")"
   ]
  },
  {
   "cell_type": "code",
   "execution_count": 4,
   "metadata": {},
   "outputs": [
    {
     "name": "stdout",
     "output_type": "stream",
     "text": [
      "<class 'pandas.core.frame.DataFrame'>\n",
      "RangeIndex: 2676 entries, 0 to 2675\n",
      "Data columns (total 25 columns):\n",
      " #   Column                  Non-Null Count  Dtype  \n",
      "---  ------                  --------------  -----  \n",
      " 0   web_scraper_order       2676 non-null   object \n",
      " 1   web_scraper_start_url   2676 non-null   object \n",
      " 2   listing_link            2676 non-null   object \n",
      " 3   listing_link_href       2676 non-null   object \n",
      " 4   address                 2676 non-null   object \n",
      " 5   price                   2676 non-null   object \n",
      " 6   rooms                   2667 non-null   float64\n",
      " 7   area                    2670 non-null   object \n",
      " 8   floor_out_of_floors     2494 non-null   object \n",
      " 9   build_year              2081 non-null   float64\n",
      " 10  condition               2456 non-null   object \n",
      " 11  energy_grade            2311 non-null   object \n",
      " 12  summary                 2675 non-null   object \n",
      " 13  description             2633 non-null   object \n",
      " 14  bedrooms                1848 non-null   float64\n",
      " 15  ownership_form          1923 non-null   object \n",
      " 16  katastrinumber          1710 non-null   object \n",
      " 17  description_header      2282 non-null   object \n",
      " 18  description_footer      2676 non-null   object \n",
      " 19  prepayment              637 non-null    object \n",
      " 20  summer_winter           862 non-null    object \n",
      " 21  owner_or_broker_banner  2673 non-null   object \n",
      " 22  registriosa_number      258 non-null    float64\n",
      " 23  images_link             2674 non-null   object \n",
      " 24  images_link_href        2674 non-null   object \n",
      "dtypes: float64(4), object(21)\n",
      "memory usage: 522.8+ KB\n"
     ]
    }
   ],
   "source": [
    "# underscores are easier to work with than hyphens.\n",
    "data.columns = data.columns.str.replace('-', '_')\n",
    "# As we can see, the situation is pretty bad by default.\n",
    "data.info()"
   ]
  },
  {
   "cell_type": "code",
   "execution_count": 5,
   "metadata": {},
   "outputs": [],
   "source": [
    "# Let's remove the Web Scraper columns.\n",
    "# listing-link and address have the same info, but address has more bloat. \n",
    "# listing-link is easier to filter and split. let's remove address as well\n",
    "data = data.drop(['web_scraper_order', 'web_scraper_start_url', 'address'], axis=1)"
   ]
  },
  {
   "cell_type": "markdown",
   "metadata": {},
   "source": [
    "## floor_out_of_floors deserves its own chapter - cell formatting is annoying"
   ]
  },
  {
   "cell_type": "code",
   "execution_count": 6,
   "metadata": {},
   "outputs": [
    {
     "data": {
      "text/plain": [
       "array(['01-Mar', '03-May', '04-Apr', '01-Feb', '03-Apr', '01-Apr',\n",
       "       '02-Mar', '05-May', '01-May', '04-May', '03-Mar', nan, '02-May',\n",
       "       '06-Jun', '03-Jun', '03-Jul', '04-Feb', '05-Jun', '02-Apr',\n",
       "       '02-Feb', '07-Sep', '04-Jun', '04-Sep', '06-Aug', '09-Sep',\n",
       "       '03-Aug', '04-Jul', '02-Jun', '08-Aug', '05-Jul', '01-Jun',\n",
       "       '01-Aug', '08-Dec', 'Dec-14', '03-Sep', '06-Jul', '01-Jan',\n",
       "       '08-Sep', '04-Aug', '13/30', 'May-14', '01-Sep', 'Apr-14',\n",
       "       '05-Oct', '18/23', '06-Sep', '15/30', '07-Aug', '05-Aug', 'Aug-15',\n",
       "       '05-Sep', '-0.25', '04-Oct', '02-Jan', '02-Jul', '10-Nov',\n",
       "       '02-Sep', 'Jul-16', 'Jun-14', 'Oct-19', 'Jun-13', '09-Dec',\n",
       "       'Feb-14', '10-Dec', '24/30', '15/16', 'Dec-13', '02-Aug', 'May-13',\n",
       "       '07-Nov', '14/20', 'Sep-14', 'Oct-17', '07-Jul', '09-Oct',\n",
       "       '03-Oct', '08-Oct', '03-Feb', '06-Dec', 'Jul-20', 'Nov-19',\n",
       "       'Jul-19', 'Jul-14', '14/14', 'Apr-22', '09-Nov', 'Jun-16',\n",
       "       'Dec-16', 'Apr-13', 'Dec-15', 'Aug-19', '04-Nov', '07-Oct',\n",
       "       '-0.333333333', 'Nov-14', '14/16', '02-Dec', '10-Oct', 'Nov-13',\n",
       "       '05-Dec', 'Mar-16', 'May-16', '17/17', '17/20', '02-Oct', '03-Dec',\n",
       "       'Nov-15', '09-Apr', 'Oct-14', '01-Jul', '15/19', 'Jul-13',\n",
       "       'Aug-16', 'Aug-18', '04-Dec', '03-Nov', '-0.2', 'Mar-14', 'Sep-23',\n",
       "       '11-Dec', '01-Oct', 'Dec-23'], dtype=object)"
      ]
     },
     "execution_count": 6,
     "metadata": {},
     "output_type": "execute_result"
    }
   ],
   "source": [
    "# floor_out_of_floors seems to have had a bit of a mishap. \n",
    "# they were automatically transformed to a date, but they were actually 1/5, 3/5, 1/2 etc.\n",
    "# let's separate all the columns that are easily separable - price, floor_out_of_floors\n",
    "# first, let's check the unique values.\n",
    "data['floor_out_of_floors'].unique()\n",
    "# most of them are pretty clear - Day-Month corresponds to FLOOR-TOTAL_FLOORS\n",
    "# some, however aren't clear: -0.25, -0.333333333, -0.2. These need to be checked individually."
   ]
  },
  {
   "cell_type": "code",
   "execution_count": 7,
   "metadata": {},
   "outputs": [],
   "source": [
    "#data[data['floor_out_of_floors'] == '-0.25'].iloc[0]['listing-link-href'] # -0.25 is actually a basement floor -1/4\n",
    "#data[data['floor_out_of_floors'] == '-0.25'].iloc[1]['listing-link-href'] # -0.25 is actually a basement floor -1/4\n",
    "# ^ those two listings are actually the same apartment listing two times, \n",
    "# the links really are different, though.\n",
    "#data[data['floor_out_of_floors'] == '-0.333333333'].iloc[0]['listing-link-href'] # -0.333333333 is actually a basement floor -1/3\n",
    "#data[data['floor_out_of_floors'] == '-0.2'].iloc[0]['listing-link-href'] # -0.2 is actually a basement floor -1/5 "
   ]
  },
  {
   "cell_type": "code",
   "execution_count": 8,
   "metadata": {},
   "outputs": [],
   "source": [
    "# The plan is the following (not the most optimal, but definitely won't break anything):\n",
    "# map -0.25, -0.333333333, -0.2 to -1/4, -1/3, -1/5\n",
    "# map [Jan, Feb, Mar,...] to [1,2,3,...] in each string\n",
    "# somehow this needs to apply to substrings. \n",
    "# map - to / DANGER, map only once FROM RIGHT, otherwise negative floor numbers will be affected\n",
    "# check all unique values\n",
    "# if unique values are all good, then split from / and cast to int\n",
    "## The following is created with help from Claude.ai.\n",
    "def transform_floor_numbers(value):\n",
    "    if pd.isna(value):\n",
    "        return value\n",
    "        \n",
    "    # First handle the special basement cases\n",
    "    basement_map = {\n",
    "        '-0.25': '-1/4',\n",
    "        '-0.333333333': '-1/3',\n",
    "        '-0.2': '-1/5'\n",
    "    }\n",
    "    if str(value) in basement_map:\n",
    "        return basement_map[str(value)]\n",
    "    \n",
    "    # Handle month name conversions\n",
    "    month_map = {\n",
    "        'Jan': '1', 'Feb': '2', 'Mar': '3', 'Apr': '4', \n",
    "        'May': '5', 'Jun': '6', 'Jul': '7', 'Aug': '8', \n",
    "        'Sep': '9', 'Oct': '10', 'Nov': '11', 'Dec': '12'\n",
    "    }\n",
    "    \n",
    "    value = str(value)\n",
    "    # Handle cases like \"Dec-14\"\n",
    "    for month, num in month_map.items():\n",
    "        if month in value:\n",
    "            value = value.replace(month, num)\n",
    "    \n",
    "    # Handle cases where - needs to be converted to / (but only rightmost occurrence)\n",
    "    if '-' in value and '/' not in value:\n",
    "        parts = value.rsplit('-', 1)  # Split from right once\n",
    "        value = parts[0] + '/' + parts[1]\n",
    "        \n",
    "    return value\n",
    "\n",
    "# Apply the transformation\n",
    "data['floor_out_of_floors'] = data['floor_out_of_floors'].apply(transform_floor_numbers)"
   ]
  },
  {
   "cell_type": "code",
   "execution_count": 9,
   "metadata": {},
   "outputs": [
    {
     "data": {
      "text/plain": [
       "array(['01/3', '03/5', '04/4', '01/2', '03/4', '01/4', '02/3', '05/5',\n",
       "       '01/5', '04/5', '03/3', nan, '02/5', '06/6', '03/6', '03/7',\n",
       "       '04/2', '05/6', '02/4', '02/2', '07/9', '04/6', '04/9', '06/8',\n",
       "       '09/9', '03/8', '04/7', '02/6', '08/8', '05/7', '01/6', '01/8',\n",
       "       '08/12', '12/14', '03/9', '06/7', '01/1', '08/9', '04/8', '13/30',\n",
       "       '5/14', '01/9', '4/14', '05/10', '18/23', '06/9', '15/30', '07/8',\n",
       "       '05/8', '8/15', '05/9', '-1/4', '04/10', '02/1', '02/7', '10/11',\n",
       "       '02/9', '7/16', '6/14', '10/19', '6/13', '09/12', '2/14', '10/12',\n",
       "       '24/30', '15/16', '12/13', '02/8', '5/13', '07/11', '14/20',\n",
       "       '9/14', '10/17', '07/7', '09/10', '03/10', '08/10', '03/2',\n",
       "       '06/12', '7/20', '11/19', '7/19', '7/14', '14/14', '4/22', '09/11',\n",
       "       '6/16', '12/16', '4/13', '12/15', '8/19', '04/11', '07/10', '-1/3',\n",
       "       '11/14', '14/16', '02/12', '10/10', '11/13', '05/12', '3/16',\n",
       "       '5/16', '17/17', '17/20', '02/10', '03/12', '11/15', '09/4',\n",
       "       '10/14', '01/7', '15/19', '7/13', '8/16', '8/18', '04/12', '03/11',\n",
       "       '-1/5', '3/14', '9/23', '11/12', '01/10', '12/23'], dtype=object)"
      ]
     },
     "execution_count": 9,
     "metadata": {},
     "output_type": "execute_result"
    }
   ],
   "source": [
    "data['floor_out_of_floors'].unique()"
   ]
  },
  {
   "cell_type": "code",
   "execution_count": 10,
   "metadata": {},
   "outputs": [],
   "source": [
    "data[['floor', 'total_floors']] = data['floor_out_of_floors'].str.split('/', expand=True)\n",
    "data['floor'] = pd.to_numeric(data['floor'], errors='coerce')\n",
    "data['total_floors'] = pd.to_numeric(data['total_floors'], errors='coerce')"
   ]
  },
  {
   "cell_type": "code",
   "execution_count": 11,
   "metadata": {},
   "outputs": [
    {
     "name": "stdout",
     "output_type": "stream",
     "text": [
      "<class 'pandas.core.frame.DataFrame'>\n",
      "RangeIndex: 2676 entries, 0 to 2675\n",
      "Data columns (total 24 columns):\n",
      " #   Column                  Non-Null Count  Dtype  \n",
      "---  ------                  --------------  -----  \n",
      " 0   listing_link            2676 non-null   object \n",
      " 1   listing_link_href       2676 non-null   object \n",
      " 2   price                   2676 non-null   object \n",
      " 3   rooms                   2667 non-null   float64\n",
      " 4   area                    2670 non-null   object \n",
      " 5   floor_out_of_floors     2494 non-null   object \n",
      " 6   build_year              2081 non-null   float64\n",
      " 7   condition               2456 non-null   object \n",
      " 8   energy_grade            2311 non-null   object \n",
      " 9   summary                 2675 non-null   object \n",
      " 10  description             2633 non-null   object \n",
      " 11  bedrooms                1848 non-null   float64\n",
      " 12  ownership_form          1923 non-null   object \n",
      " 13  katastrinumber          1710 non-null   object \n",
      " 14  description_header      2282 non-null   object \n",
      " 15  description_footer      2676 non-null   object \n",
      " 16  prepayment              637 non-null    object \n",
      " 17  summer_winter           862 non-null    object \n",
      " 18  owner_or_broker_banner  2673 non-null   object \n",
      " 19  registriosa_number      258 non-null    float64\n",
      " 20  images_link             2674 non-null   object \n",
      " 21  images_link_href        2674 non-null   object \n",
      " 22  floor                   2494 non-null   float64\n",
      " 23  total_floors            2494 non-null   float64\n",
      "dtypes: float64(6), object(18)\n",
      "memory usage: 501.9+ KB\n"
     ]
    }
   ],
   "source": [
    "data.info()"
   ]
  },
  {
   "cell_type": "markdown",
   "metadata": {},
   "source": [
    "## Elementary column transformations - extracting and cleaning up easy values"
   ]
  },
  {
   "cell_type": "code",
   "execution_count": 12,
   "metadata": {},
   "outputs": [],
   "source": [
    "# price -> price, price_per_m2\n",
    "data[['price', 'price_per_m2']] = data['price'].str.split('€ ', n=1, expand=True)\n",
    "data['price'] = pd.to_numeric(data['price'].str.strip(), errors='coerce')\n",
    "data['price_per_m2'] = data['price_per_m2'].str.replace('€/m²', '').str.strip()\n",
    "data['price_per_m2'] = pd.to_numeric(data['price_per_m2'], errors='coerce')"
   ]
  },
  {
   "cell_type": "code",
   "execution_count": 13,
   "metadata": {},
   "outputs": [],
   "source": [
    "# area -> float64 area with filtering\n",
    "data['area'] = data['area'].str.replace('\\xa0m²', '').str.strip()\n",
    "data['area'] = pd.to_numeric(data['area'], errors='coerce')"
   ]
  },
  {
   "cell_type": "code",
   "execution_count": 14,
   "metadata": {},
   "outputs": [],
   "source": [
    "# energy_grade to numeric, A is highest, H is lowest value\n",
    "data.energy_grade = data.energy_grade.map({\n",
    "    'Puudub': np.nan, '-': np.nan,\n",
    "    'H':1, 'G':2, 'F':3, 'E':4, 'D':5, 'C':6, 'B':7, 'A':8\n",
    "})"
   ]
  },
  {
   "cell_type": "code",
   "execution_count": 15,
   "metadata": {},
   "outputs": [],
   "source": [
    "# arbitrary condition mapping to 5 numeric categories\n",
    "data['condition'] = data['condition'].map({\n",
    "    'Uus': 5, 'Uusarendus': 5,\n",
    "    'Renoveeritud': 4,\n",
    "    'Valmis': 3, 'Heas korras': 3,\n",
    "    'San. remont tehtud': 2, 'Keskmine': 2,\n",
    "    'Vajab san. remonti': 1, 'Vajab renoveerimist': 1\n",
    "})\n"
   ]
  },
  {
   "cell_type": "code",
   "execution_count": 16,
   "metadata": {},
   "outputs": [],
   "source": [
    "# arbitrary ownership_form mapping to numeric categories\n",
    "data['ownership_form'] = data['ownership_form'].map({\n",
    "    'Korteriomand': 5, 'Kinnistu': 5,\n",
    "    'Elamuühistu': 4,\n",
    "    'Kaasomand': 3, 'Hoonestusõigus': 3,\n",
    "    'Üürileping': 2,\n",
    "    'Vallasasi': 1\n",
    "})"
   ]
  },
  {
   "cell_type": "code",
   "execution_count": 17,
   "metadata": {},
   "outputs": [],
   "source": [
    "# get copy_not_allowed and broker_not_allowed from the footer\n",
    "# used Copilot to simplify this\n",
    "def map_description_footer(df):\n",
    "    df['copy_not_allowed'] = df['description_footer'].apply(lambda x: 'Ei luba enda kuulutust kopeerida' in x)\n",
    "    df['no_broker_allowed'] = df['description_footer'].apply(lambda x: 'Maakleritel palun mitte tülitada' in x)\n",
    "    return df\n",
    "\n",
    "data = map_description_footer(data)"
   ]
  },
  {
   "cell_type": "code",
   "execution_count": 18,
   "metadata": {},
   "outputs": [],
   "source": [
    "# from images_link, we can get the number of pictures attached to the post. that seems like a worthwhile data point to have\n",
    "# we can use a regex function for that. used Copilot to check the correct regex function in python\n",
    "def extract_images_attached(df):\n",
    "    df['images_attached'] = df['images_link'].str.extract(r'\\((\\d+)\\)')\n",
    "    df['images_attached'] = pd.to_numeric(df['images_attached'], errors='coerce')\n",
    "    return df\n",
    "\n",
    "data = extract_images_attached(data)"
   ]
  },
  {
   "cell_type": "code",
   "execution_count": 19,
   "metadata": {},
   "outputs": [],
   "source": [
    "# let's have all the column dropping in the last cell.\n",
    "data = data.drop(['images_link', 'description_footer', 'floor_out_of_floors'], axis=1)"
   ]
  },
  {
   "cell_type": "markdown",
   "metadata": {},
   "source": [
    "data.info()"
   ]
  },
  {
   "cell_type": "markdown",
   "metadata": {},
   "source": [
    "## Removing some extreme outliers"
   ]
  },
  {
   "cell_type": "code",
   "execution_count": 20,
   "metadata": {},
   "outputs": [],
   "source": [
    "# two rows have 29 rooms listed.\n",
    "# those are actually \"shared housing\" listing & no rooms cost 200 - the cheapest is 350. Let's drop those rows.\n",
    "data = data.drop(data[data.rooms == 29].index)"
   ]
  },
  {
   "cell_type": "code",
   "execution_count": 21,
   "metadata": {},
   "outputs": [],
   "source": [
    "#data[data.rooms.isna()] # 9 rows, let's leave those in for \"comparison with no room nr\"\n",
    "#data[data.rooms == 8] # 2 rows, seem correct\n",
    "#data[data.rooms == 6] # 5 rows\n",
    "#data[data.rooms == 5] # 22 rows, that's definitely good enough"
   ]
  },
  {
   "cell_type": "code",
   "execution_count": 22,
   "metadata": {},
   "outputs": [],
   "source": [
    "# row with index 2145 has price 1€ and area as 1 m2. Not going to bother finding out what's happening.\n",
    "data = data.drop(2145)"
   ]
  },
  {
   "cell_type": "markdown",
   "metadata": {},
   "source": [
    "## Extracting address from listing_link"
   ]
  },
  {
   "cell_type": "code",
   "execution_count": 23,
   "metadata": {},
   "outputs": [],
   "source": [
    "# TODO"
   ]
  },
  {
   "cell_type": "markdown",
   "metadata": {},
   "source": [
    "## Create a new column with coordinates from address using external library"
   ]
  },
  {
   "cell_type": "code",
   "execution_count": 25,
   "metadata": {},
   "outputs": [],
   "source": [
    "# TODO"
   ]
  },
  {
   "cell_type": "markdown",
   "metadata": {},
   "source": [
    "## Extracting info from summary                 "
   ]
  },
  {
   "cell_type": "code",
   "execution_count": 26,
   "metadata": {},
   "outputs": [],
   "source": [
    "# TODO"
   ]
  },
  {
   "cell_type": "markdown",
   "metadata": {},
   "source": [
    "## Extracting info from description"
   ]
  },
  {
   "cell_type": "code",
   "execution_count": 27,
   "metadata": {},
   "outputs": [],
   "source": [
    "# TODO"
   ]
  },
  {
   "cell_type": "markdown",
   "metadata": {},
   "source": [
    "## Determine whether 'katastrinumber' has any value to us after we already have the address - what even is it?"
   ]
  },
  {
   "cell_type": "code",
   "execution_count": 28,
   "metadata": {},
   "outputs": [],
   "source": [
    "# TODO"
   ]
  },
  {
   "cell_type": "markdown",
   "metadata": {},
   "source": [
    "## Extract info from description header - is it in all caps (bool)? Count !? and something like that maybe?"
   ]
  },
  {
   "cell_type": "code",
   "execution_count": 29,
   "metadata": {},
   "outputs": [],
   "source": [
    "# TODO"
   ]
  },
  {
   "cell_type": "markdown",
   "metadata": {},
   "source": [
    "## MOVE TO ELEMENTARY COLUMN TRANSFORMATIONS: Transform column prepayment to float64 (mostly useful for NaN or no NaN)"
   ]
  },
  {
   "cell_type": "code",
   "execution_count": 30,
   "metadata": {},
   "outputs": [],
   "source": [
    "# TODO"
   ]
  },
  {
   "cell_type": "markdown",
   "metadata": {},
   "source": [
    "## MOVE TO ELEMENTARY COLUMN TRANSFORMATIONS:  Extract info from owner_or_broker_banner - BOOL: is the listing created by the owner? true -> owner,  false -> broker"
   ]
  },
  {
   "cell_type": "code",
   "execution_count": 31,
   "metadata": {},
   "outputs": [],
   "source": [
    "# TODO"
   ]
  },
  {
   "cell_type": "markdown",
   "metadata": {},
   "source": [
    "## MOVE TO ELEMENTARY COLUMN TRANSFORMATIONS:  Determine whether 'registriosa_number' has any value to us"
   ]
  },
  {
   "cell_type": "code",
   "execution_count": 32,
   "metadata": {},
   "outputs": [],
   "source": [
    "# TODO"
   ]
  },
  {
   "cell_type": "markdown",
   "metadata": {},
   "source": [
    "## Determine whether to try to analyse pictures from images_link_href and assign a rating to those"
   ]
  },
  {
   "cell_type": "code",
   "execution_count": 33,
   "metadata": {},
   "outputs": [],
   "source": [
    "# TODO"
   ]
  }
 ],
 "metadata": {
  "kernelspec": {
   "display_name": "Python 3 (ipykernel)",
   "language": "python",
   "name": "python3"
  },
  "language_info": {
   "codemirror_mode": {
    "name": "ipython",
    "version": 3
   },
   "file_extension": ".py",
   "mimetype": "text/x-python",
   "name": "python",
   "nbconvert_exporter": "python",
   "pygments_lexer": "ipython3",
   "version": "3.12.5"
  }
 },
 "nbformat": 4,
 "nbformat_minor": 4
}
