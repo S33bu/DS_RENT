{
 "cells": [
  {
   "cell_type": "markdown",
   "metadata": {},
   "source": [
    "# KV Data Cleanup"
   ]
  },
  {
   "cell_type": "markdown",
   "metadata": {},
   "source": [
    "## Starting up"
   ]
  },
  {
   "cell_type": "code",
   "execution_count": 1,
   "metadata": {},
   "outputs": [
    {
     "name": "stdout",
     "output_type": "stream",
     "text": [
      "Defaulting to user installation because normal site-packages is not writeable\n",
      "Requirement already satisfied: matplotlib in c:\\users\\rt\\appdata\\roaming\\python\\python312\\site-packages (3.9.2)\n",
      "Requirement already satisfied: contourpy>=1.0.1 in c:\\users\\rt\\appdata\\roaming\\python\\python312\\site-packages (from matplotlib) (1.3.0)\n",
      "Requirement already satisfied: cycler>=0.10 in c:\\users\\rt\\appdata\\roaming\\python\\python312\\site-packages (from matplotlib) (0.12.1)\n",
      "Requirement already satisfied: fonttools>=4.22.0 in c:\\users\\rt\\appdata\\roaming\\python\\python312\\site-packages (from matplotlib) (4.53.1)\n",
      "Requirement already satisfied: kiwisolver>=1.3.1 in c:\\users\\rt\\appdata\\roaming\\python\\python312\\site-packages (from matplotlib) (1.4.7)\n",
      "Requirement already satisfied: numpy>=1.23 in c:\\users\\rt\\appdata\\roaming\\python\\python312\\site-packages (from matplotlib) (2.0.2)\n",
      "Requirement already satisfied: packaging>=20.0 in c:\\python312\\lib\\site-packages (from matplotlib) (24.0)\n",
      "Requirement already satisfied: pillow>=8 in c:\\users\\rt\\appdata\\roaming\\python\\python312\\site-packages (from matplotlib) (10.4.0)\n",
      "Requirement already satisfied: pyparsing>=2.3.1 in c:\\users\\rt\\appdata\\roaming\\python\\python312\\site-packages (from matplotlib) (3.1.4)\n",
      "Requirement already satisfied: python-dateutil>=2.7 in c:\\python312\\lib\\site-packages (from matplotlib) (2.9.0.post0)\n",
      "Requirement already satisfied: six>=1.5 in c:\\python312\\lib\\site-packages (from python-dateutil>=2.7->matplotlib) (1.16.0)\n",
      "Note: you may need to restart the kernel to use updated packages.\n"
     ]
    }
   ],
   "source": [
    "%pip install matplotlib"
   ]
  },
  {
   "cell_type": "code",
   "execution_count": 2,
   "metadata": {},
   "outputs": [],
   "source": [
    "import pandas as pd\n",
    "import numpy as np\n",
    "import matplotlib.pyplot as plt\n",
    "import re"
   ]
  },
  {
   "cell_type": "code",
   "execution_count": 3,
   "metadata": {},
   "outputs": [],
   "source": [
    "data = pd.read_csv(\"kv-rent-data-16-11-2024.csv\")"
   ]
  },
  {
   "cell_type": "code",
   "execution_count": 4,
   "metadata": {},
   "outputs": [
    {
     "name": "stdout",
     "output_type": "stream",
     "text": [
      "<class 'pandas.core.frame.DataFrame'>\n",
      "RangeIndex: 2676 entries, 0 to 2675\n",
      "Data columns (total 25 columns):\n",
      " #   Column                 Non-Null Count  Dtype  \n",
      "---  ------                 --------------  -----  \n",
      " 0   web_scraper_order      2676 non-null   object \n",
      " 1   web_scraper_start_url  2676 non-null   object \n",
      " 2   listing_link           2676 non-null   object \n",
      " 3   listing_link_href      2676 non-null   object \n",
      " 4   address                2676 non-null   object \n",
      " 5   price                  2676 non-null   object \n",
      " 6   rooms                  2667 non-null   float64\n",
      " 7   area                   2670 non-null   object \n",
      " 8   floor_out_of_floors    2494 non-null   object \n",
      " 9   build_year             2081 non-null   float64\n",
      " 10  condition              2456 non-null   object \n",
      " 11  energy_mark            2311 non-null   object \n",
      " 12  summary                2675 non-null   object \n",
      " 13  description            2633 non-null   object \n",
      " 14  bedrooms               1848 non-null   float64\n",
      " 15  ownership_form         1923 non-null   object \n",
      " 16  katastrinumber         1710 non-null   object \n",
      " 17  description_header     2282 non-null   object \n",
      " 18  description_footer     2676 non-null   object \n",
      " 19  prepayment             637 non-null    object \n",
      " 20  utility_costs          862 non-null    object \n",
      " 21  owner_or_broker        2673 non-null   object \n",
      " 22  registriosa_number     258 non-null    float64\n",
      " 23  images_link            2674 non-null   object \n",
      " 24  images_link_href       2674 non-null   object \n",
      "dtypes: float64(4), object(21)\n",
      "memory usage: 522.8+ KB\n"
     ]
    }
   ],
   "source": [
    "# underscores are easier to work with than hyphens.\n",
    "data.columns = data.columns.str.replace('-', '_')\n",
    "# As we can see, the situation is pretty bad by default.\n",
    "data.info()"
   ]
  },
  {
   "cell_type": "code",
   "execution_count": 5,
   "metadata": {},
   "outputs": [],
   "source": [
    "# Let's remove the Web Scraper columns.\n",
    "# listing-link and address have the same info, but address has more bloat. \n",
    "# listing-link is easier to filter and split. let's remove address as well\n",
    "# catastre, registry and ownership_form have either no correlation or are mostly NaN values\n",
    "data = data.drop(['web_scraper_order', 'web_scraper_start_url', 'address', 'katastrinumber', 'registriosa_number', 'ownership_form'], axis=1)"
   ]
  },
  {
   "cell_type": "markdown",
   "metadata": {},
   "source": [
    "## floor_out_of_floors deserves its own chapter - cell formatting is annoying"
   ]
  },
  {
   "cell_type": "code",
   "execution_count": 6,
   "metadata": {},
   "outputs": [
    {
     "data": {
      "text/plain": [
       "array(['01-Mar', '03-May', '04-Apr', '01-Feb', '03-Apr', '01-Apr',\n",
       "       '02-Mar', '05-May', '01-May', '04-May', '03-Mar', nan, '02-May',\n",
       "       '06-Jun', '03-Jun', '03-Jul', '04-Feb', '05-Jun', '02-Apr',\n",
       "       '02-Feb', '07-Sep', '04-Jun', '04-Sep', '06-Aug', '09-Sep',\n",
       "       '03-Aug', '04-Jul', '02-Jun', '08-Aug', '05-Jul', '01-Jun',\n",
       "       '01-Aug', '08-Dec', 'Dec-14', '03-Sep', '06-Jul', '01-Jan',\n",
       "       '08-Sep', '04-Aug', '13/30', 'May-14', '01-Sep', 'Apr-14',\n",
       "       '05-Oct', '18/23', '06-Sep', '15/30', '07-Aug', '05-Aug', 'Aug-15',\n",
       "       '05-Sep', '-0.25', '04-Oct', '02-Jan', '02-Jul', '10-Nov',\n",
       "       '02-Sep', 'Jul-16', 'Jun-14', 'Oct-19', 'Jun-13', '09-Dec',\n",
       "       'Feb-14', '10-Dec', '24/30', '15/16', 'Dec-13', '02-Aug', 'May-13',\n",
       "       '07-Nov', '14/20', 'Sep-14', 'Oct-17', '07-Jul', '09-Oct',\n",
       "       '03-Oct', '08-Oct', '03-Feb', '06-Dec', 'Jul-20', 'Nov-19',\n",
       "       'Jul-19', 'Jul-14', '14/14', 'Apr-22', '09-Nov', 'Jun-16',\n",
       "       'Dec-16', 'Apr-13', 'Dec-15', 'Aug-19', '04-Nov', '07-Oct',\n",
       "       '-0.333333333', 'Nov-14', '14/16', '02-Dec', '10-Oct', 'Nov-13',\n",
       "       '05-Dec', 'Mar-16', 'May-16', '17/17', '17/20', '02-Oct', '03-Dec',\n",
       "       'Nov-15', '09-Apr', 'Oct-14', '01-Jul', '15/19', 'Jul-13',\n",
       "       'Aug-16', 'Aug-18', '04-Dec', '03-Nov', '-0.2', 'Mar-14', 'Sep-23',\n",
       "       '11-Dec', '01-Oct', 'Dec-23'], dtype=object)"
      ]
     },
     "execution_count": 6,
     "metadata": {},
     "output_type": "execute_result"
    }
   ],
   "source": [
    "# floor_out_of_floors seems to have had a bit of a mishap. \n",
    "# they were automatically transformed to a date, but they were actually 1/5, 3/5, 1/2 etc.\n",
    "# let's separate all the columns that are easily separable - price, floor_out_of_floors\n",
    "# first, let's check the unique values.\n",
    "data['floor_out_of_floors'].unique()\n",
    "# most of them are pretty clear - Day-Month corresponds to FLOOR-TOTAL_FLOORS\n",
    "# some, however aren't clear: -0.25, -0.333333333, -0.2. These need to be checked individually."
   ]
  },
  {
   "cell_type": "code",
   "execution_count": 7,
   "metadata": {},
   "outputs": [],
   "source": [
    "#data[data['floor_out_of_floors'] == '-0.25'].iloc[0]['listing-link-href'] # -0.25 is actually a basement floor -1/4\n",
    "#data[data['floor_out_of_floors'] == '-0.25'].iloc[1]['listing-link-href'] # -0.25 is actually a basement floor -1/4\n",
    "# ^ those two listings are actually the same apartment listing two times, \n",
    "# the links really are different, though.\n",
    "#data[data['floor_out_of_floors'] == '-0.333333333'].iloc[0]['listing-link-href'] # -0.333333333 is actually a basement floor -1/3\n",
    "#data[data['floor_out_of_floors'] == '-0.2'].iloc[0]['listing-link-href'] # -0.2 is actually a basement floor -1/5 "
   ]
  },
  {
   "cell_type": "code",
   "execution_count": 8,
   "metadata": {},
   "outputs": [],
   "source": [
    "# The plan is the following (not the most optimal, but definitely won't break anything):\n",
    "# map -0.25, -0.333333333, -0.2 to -1/4, -1/3, -1/5\n",
    "# map [Jan, Feb, Mar,...] to [1,2,3,...] in each string\n",
    "# somehow this needs to apply to substrings. \n",
    "# map - to / DANGER, map only once FROM RIGHT, otherwise negative floor numbers will be affected\n",
    "# check all unique values\n",
    "# if unique values are all good, then split from / and cast to int\n",
    "## The following is created with help from Claude.ai.\n",
    "def transform_floor_numbers(value):\n",
    "    if pd.isna(value):\n",
    "        return value\n",
    "        \n",
    "    # First handle the special basement cases\n",
    "    basement_map = {\n",
    "        '-0.25': '-1/4',\n",
    "        '-0.333333333': '-1/3',\n",
    "        '-0.2': '-1/5'\n",
    "    }\n",
    "    if str(value) in basement_map:\n",
    "        return basement_map[str(value)]\n",
    "    \n",
    "    # Handle month name conversions\n",
    "    month_map = {\n",
    "        'Jan': '1', 'Feb': '2', 'Mar': '3', 'Apr': '4', \n",
    "        'May': '5', 'Jun': '6', 'Jul': '7', 'Aug': '8', \n",
    "        'Sep': '9', 'Oct': '10', 'Nov': '11', 'Dec': '12'\n",
    "    }\n",
    "    \n",
    "    value = str(value)\n",
    "    # Handle cases like \"Dec-14\"\n",
    "    for month, num in month_map.items():\n",
    "        if month in value:\n",
    "            value = value.replace(month, num)\n",
    "    \n",
    "    # Handle cases where - needs to be converted to / (but only rightmost occurrence)\n",
    "    if '-' in value and '/' not in value:\n",
    "        parts = value.rsplit('-', 1)  # Split from right once\n",
    "        value = parts[0] + '/' + parts[1]\n",
    "        \n",
    "    return value\n",
    "\n",
    "# Apply the transformation\n",
    "data['floor_out_of_floors'] = data['floor_out_of_floors'].apply(transform_floor_numbers)"
   ]
  },
  {
   "cell_type": "code",
   "execution_count": 9,
   "metadata": {},
   "outputs": [],
   "source": [
    "data[['floor', 'total_floors']] = data['floor_out_of_floors'].str.split('/', expand=True)\n",
    "data['floor'] = pd.to_numeric(data['floor'], errors='coerce')\n",
    "data['total_floors'] = pd.to_numeric(data['total_floors'], errors='coerce')"
   ]
  },
  {
   "cell_type": "markdown",
   "metadata": {},
   "source": [
    "## Elementary column transformations - extracting and cleaning up easy values"
   ]
  },
  {
   "cell_type": "code",
   "execution_count": 10,
   "metadata": {},
   "outputs": [],
   "source": [
    "# price -> price, price_per_m2\n",
    "data['price'] = data['price'].apply(lambda x: re.sub(r'\\s', '', x))\n",
    "data[['price', 'price_per_m2']] = data['price'].str.split('€', n=1, expand=True)\n",
    "data['price'] = pd.to_numeric(data['price'].str.strip(), errors='coerce')\n",
    "data['price_per_m2'] = data['price_per_m2'].str.replace('€/m²', '').str.strip()\n",
    "data['price_per_m2'] = pd.to_numeric(data['price_per_m2'], errors='coerce')"
   ]
  },
  {
   "cell_type": "code",
   "execution_count": 11,
   "metadata": {},
   "outputs": [
    {
     "data": {
      "text/plain": [
       "0       750.0\n",
       "1       595.0\n",
       "2       670.0\n",
       "3       450.0\n",
       "4       550.0\n",
       "        ...  \n",
       "2671    790.0\n",
       "2672    459.0\n",
       "2673    500.0\n",
       "2674    419.0\n",
       "2675    650.0\n",
       "Name: price, Length: 2676, dtype: float64"
      ]
     },
     "execution_count": 11,
     "metadata": {},
     "output_type": "execute_result"
    }
   ],
   "source": [
    "data.price"
   ]
  },
  {
   "cell_type": "code",
   "execution_count": 12,
   "metadata": {},
   "outputs": [],
   "source": [
    "# area -> float64 area with filtering\n",
    "data['area'] = data['area'].str.replace('\\xa0m²', '').str.strip()\n",
    "data['area'] = pd.to_numeric(data['area'], errors='coerce')"
   ]
  },
  {
   "cell_type": "code",
   "execution_count": 13,
   "metadata": {},
   "outputs": [],
   "source": [
    "# energy_mark to numeric, A is highest, H is lowest value\n",
    "data.energy_mark = data.energy_mark.map({\n",
    "    'Puudub': np.nan, '-': np.nan,\n",
    "    'H':1, 'G':2, 'F':3, 'E':4, 'D':5, 'C':6, 'B':7, 'A':8\n",
    "})"
   ]
  },
  {
   "cell_type": "code",
   "execution_count": 14,
   "metadata": {},
   "outputs": [],
   "source": [
    "# arbitrary condition mapping to 5 numeric categories\n",
    "data['condition'] = data['condition'].map({\n",
    "    'Uus': 5, 'Uusarendus': 5,\n",
    "    'Renoveeritud': 4,\n",
    "    'Valmis': 3, 'Heas korras': 3,\n",
    "    'San. remont tehtud': 2, 'Keskmine': 2,\n",
    "    'Vajab san. remonti': 1, 'Vajab renoveerimist': 1\n",
    "})\n"
   ]
  },
  {
   "cell_type": "code",
   "execution_count": 15,
   "metadata": {},
   "outputs": [],
   "source": [
    "# get copy_not_allowed and broker_not_allowed from the footer\n",
    "# used Copilot to simplify this\n",
    "def map_description_footer(df):\n",
    "    df['copy_not_allowed'] = df['description_footer'].apply(lambda x: 'Ei luba enda kuulutust kopeerida' in x)\n",
    "    df['no_broker_allowed'] = df['description_footer'].apply(lambda x: 'Maakleritel palun mitte tülitada' in x)\n",
    "    return df\n",
    "\n",
    "data = map_description_footer(data)"
   ]
  },
  {
   "cell_type": "code",
   "execution_count": 16,
   "metadata": {},
   "outputs": [],
   "source": [
    "# from images_link, we can get the number of pictures attached to the post. that seems like a worthwhile data point to have\n",
    "# we can use a regex function for that. used Copilot to check the correct regex function in python\n",
    "def extract_images_attached(df):\n",
    "    df['images_attached'] = df['images_link'].str.extract(r'\\((\\d+)\\)')\n",
    "    df['images_attached'] = pd.to_numeric(df['images_attached'], errors='coerce')\n",
    "    return df\n",
    "\n",
    "data = extract_images_attached(data)"
   ]
  },
  {
   "cell_type": "code",
   "execution_count": 17,
   "metadata": {},
   "outputs": [],
   "source": [
    "# extract whether poster is the owner depending on the owner-broker banner\n",
    "data['is_owner'] = data['owner_or_broker'].str.contains('Omanik')"
   ]
  },
  {
   "cell_type": "code",
   "execution_count": 18,
   "metadata": {},
   "outputs": [],
   "source": [
    "# convert prepayment to numeric\n",
    "data['prepayment'] = pd.to_numeric(data['prepayment'].str.replace('€', '').str.strip(), errors='coerce')"
   ]
  },
  {
   "cell_type": "code",
   "execution_count": 19,
   "metadata": {},
   "outputs": [],
   "source": [
    "# let's have all the column dropping in the last cell.\n",
    "data = data.drop(['images_link', 'description_footer', 'floor_out_of_floors', 'owner_or_broker'], axis=1)"
   ]
  },
  {
   "cell_type": "markdown",
   "metadata": {},
   "source": [
    "## Removing some extreme outliers"
   ]
  },
  {
   "cell_type": "code",
   "execution_count": 20,
   "metadata": {},
   "outputs": [],
   "source": [
    "# two rows have 29 rooms listed.\n",
    "# those are actually \"shared housing\" listing & no rooms cost 200 - the cheapest is 350. Let's drop those rows.\n",
    "data = data.drop(data[data.rooms == 29].index)"
   ]
  },
  {
   "cell_type": "code",
   "execution_count": 21,
   "metadata": {},
   "outputs": [],
   "source": [
    "#data[data.rooms.isna()] # 9 rows, let's leave those in for \"comparison with no room nr\"\n",
    "#data[data.rooms == 8] # 2 rows, seem correct\n",
    "#data[data.rooms == 6] # 5 rows\n",
    "#data[data.rooms == 5] # 22 rows, that's good enough"
   ]
  },
  {
   "cell_type": "code",
   "execution_count": 22,
   "metadata": {},
   "outputs": [],
   "source": [
    "# row with index 2145 has price 1€ and area as 1 m2. Not going to bother finding out what's happening.\n",
    "data = data.drop(2145)"
   ]
  },
  {
   "cell_type": "code",
   "execution_count": 23,
   "metadata": {},
   "outputs": [],
   "source": [
    "# since price is the feature we're trying to predict and area is a good indication of price,\n",
    "# let's drop all rows where price or area is NaN\n",
    "#data = data.drop(data[data.rooms == 29].index)\n",
    "data = data.drop(data[(data['price'].isna()) | (data['area'].isna())].index)"
   ]
  },
  {
   "cell_type": "code",
   "execution_count": 24,
   "metadata": {},
   "outputs": [],
   "source": [
    "# one of the objects has a build year above 20000, that's actually supposed to be 2022\n",
    "data.loc[1877, 'build_year'] = 2022"
   ]
  },
  {
   "cell_type": "code",
   "execution_count": 25,
   "metadata": {},
   "outputs": [],
   "source": [
    "# 3 rows have a price above 15000. those are either sale listings or bad typos, not worth figuring out.\n",
    "data = data.drop(data[data.price > 15000].index)"
   ]
  },
  {
   "cell_type": "code",
   "execution_count": 26,
   "metadata": {},
   "outputs": [],
   "source": [
    "# 1 post is a \"combo posting\" of 5 apartments where area is only 1 apt, but price is 5 apt. Not going to figure all the details out\n",
    "data = data.drop(data[data.price_per_m2 > 60].index)"
   ]
  },
  {
   "cell_type": "code",
   "execution_count": 27,
   "metadata": {},
   "outputs": [],
   "source": [
    "# manually verified that the 3 is_owner banners that are NaN are truly posted by the owner 2449 2479 2572\n",
    "# replace is_owner NaN with True\n",
    "# data[data.is_owner.isna() == True]\n",
    "data.loc[[2449, 2479, 2572], 'is_owner'] = True"
   ]
  },
  {
   "cell_type": "code",
   "execution_count": 28,
   "metadata": {},
   "outputs": [],
   "source": [
    "data.is_owner = data.is_owner.astype(bool)"
   ]
  },
  {
   "cell_type": "code",
   "execution_count": 29,
   "metadata": {},
   "outputs": [],
   "source": [
    "# one listing is actually for a storage room\n",
    "data = data.drop(data[data.area == 3].index)"
   ]
  },
  {
   "cell_type": "markdown",
   "metadata": {},
   "source": [
    "## Extract summer and winter utility costs from utility_costs"
   ]
  },
  {
   "cell_type": "code",
   "execution_count": 30,
   "metadata": {},
   "outputs": [
    {
     "data": {
      "text/plain": [
       "array(['30 € / -', '86 € / 162 €', '70 € / 200 €', '75 € / 140 €',\n",
       "       '45 € / 85 €', '81 € / 138 €', '88 € / -', '220 € / 250 €',\n",
       "       '80 € / 280 €'], dtype=object)"
      ]
     },
     "execution_count": 30,
     "metadata": {},
     "output_type": "execute_result"
    }
   ],
   "source": [
    "data.utility_costs.unique()[390:]"
   ]
  },
  {
   "cell_type": "code",
   "execution_count": 31,
   "metadata": {},
   "outputs": [],
   "source": [
    "# replace € with '', strip()\n",
    "data['utility_costs'] = data['utility_costs'].str.replace('€', '')\n",
    "# split from /\n",
    "data[['utility_summer', 'utility_winter']] = data['utility_costs'].str.split('/', n=1, expand=True)\n",
    "# to_numeric\n",
    "data['utility_summer'] = pd.to_numeric(data['utility_summer'], errors='coerce')\n",
    "data['utility_winter'] = pd.to_numeric(data['utility_winter'], errors='coerce')\n",
    "# drop utility_costs\n",
    "data = data.drop(['utility_costs'], axis=1)"
   ]
  },
  {
   "cell_type": "code",
   "execution_count": 32,
   "metadata": {},
   "outputs": [],
   "source": [
    "# if one exists and other doesn't, copy value from one to the other.\n",
    "# this is not a perfect solution, but still gives us about 30 extra rows to work with.\n",
    "data.loc[(data['utility_summer'].isna()) & (data['utility_winter'].notna()), 'utility_summer'] = data['utility_winter']\n",
    "data.loc[(data['utility_winter'].isna()) & (data['utility_summer'].notna()), 'utility_winter'] = data['utility_summer']"
   ]
  },
  {
   "cell_type": "code",
   "execution_count": 33,
   "metadata": {},
   "outputs": [],
   "source": [
    "# 2 posts are badly formatted and very difficult to parse\n",
    "data = data.drop([510, 1693])"
   ]
  },
  {
   "cell_type": "code",
   "execution_count": 34,
   "metadata": {},
   "outputs": [],
   "source": [
    "# 1 post (2133) had an utility bill of over 100 000€ summer/winter. let's replace that with NaN\n",
    "# 2 posts have utility bills equal to the rent, while saying that utility bills are fixed\n",
    "data.loc[2133, 'utility_summer'] = np.nan\n",
    "data.loc[2133, 'utility_winter'] = np.nan"
   ]
  },
  {
   "cell_type": "code",
   "execution_count": 35,
   "metadata": {},
   "outputs": [
    {
     "name": "stdout",
     "output_type": "stream",
     "text": [
      "<class 'pandas.core.frame.DataFrame'>\n",
      "Index: 2655 entries, 0 to 2675\n",
      "Data columns (total 23 columns):\n",
      " #   Column              Non-Null Count  Dtype  \n",
      "---  ------              --------------  -----  \n",
      " 0   listing_link        2655 non-null   object \n",
      " 1   listing_link_href   2655 non-null   object \n",
      " 2   price               2655 non-null   float64\n",
      " 3   rooms               2646 non-null   float64\n",
      " 4   area                2655 non-null   float64\n",
      " 5   build_year          2066 non-null   float64\n",
      " 6   condition           2435 non-null   float64\n",
      " 7   energy_mark         1207 non-null   float64\n",
      " 8   summary             2654 non-null   object \n",
      " 9   description         2612 non-null   object \n",
      " 10  bedrooms            1836 non-null   float64\n",
      " 11  description_header  2266 non-null   object \n",
      " 12  prepayment          560 non-null    float64\n",
      " 13  images_link_href    2653 non-null   object \n",
      " 14  floor               2475 non-null   float64\n",
      " 15  total_floors        2475 non-null   float64\n",
      " 16  price_per_m2        2655 non-null   float64\n",
      " 17  copy_not_allowed    2655 non-null   bool   \n",
      " 18  no_broker_allowed   2655 non-null   bool   \n",
      " 19  images_attached     2653 non-null   float64\n",
      " 20  is_owner            2655 non-null   bool   \n",
      " 21  utility_summer      855 non-null    float64\n",
      " 22  utility_winter      855 non-null    float64\n",
      "dtypes: bool(3), float64(14), object(6)\n",
      "memory usage: 507.9+ KB\n"
     ]
    }
   ],
   "source": [
    "data.info()"
   ]
  },
  {
   "cell_type": "markdown",
   "metadata": {},
   "source": [
    "## Extracting address fields from listing_link"
   ]
  },
  {
   "cell_type": "code",
   "execution_count": 36,
   "metadata": {},
   "outputs": [
    {
     "data": {
      "text/plain": [
       "array([4, 5, 3, 6, 7])"
      ]
     },
     "execution_count": 36,
     "metadata": {},
     "output_type": "execute_result"
    }
   ],
   "source": [
    "data['listing_link'].str.split(',').apply(lambda x: len(x)).unique() # address separated by ',' returns len 4, 5, 3, 6, 8, 7"
   ]
  },
  {
   "cell_type": "code",
   "execution_count": 37,
   "metadata": {},
   "outputs": [
    {
     "data": {
      "text/plain": [
       "2            Tartumaa, Tartu, Tartu linn, Kesklinn, Oru 2\n",
       "3       Pärnumaa, Pärnu, Pärnu linn, Rannarajoon, Papl...\n",
       "8           Tartumaa, Tartu, Tartu linn, Karlova, Turu 29\n",
       "10       Harjumaa, Tallinn, Kristiine, Kristiine, Kotka 1\n",
       "13         Tartumaa, Tartu, Tartu linn, Kesklinn, Riia 26\n",
       "                              ...                        \n",
       "2665    Tartumaa, Tartu, Tartu linn, Kesklinn, Väike-T...\n",
       "2668    Tartumaa, Tartu, Tartu linn, Kesklinn, Vanemui...\n",
       "2670    Tartumaa, Tartu, Tartu linn, Tammelinn, Soinas...\n",
       "2673    Harjumaa, Tallinn, Kesklinn, Juhkentali, Liiva...\n",
       "2675    Harjumaa, Rae vald, Rae, Rae küla, Dolomiidi t...\n",
       "Name: listing_link, Length: 880, dtype: object"
      ]
     },
     "execution_count": 37,
     "metadata": {},
     "output_type": "execute_result"
    }
   ],
   "source": [
    "data[data['listing_link'].str.split(',').apply(lambda x: len(x) == 5)].listing_link"
   ]
  },
  {
   "cell_type": "code",
   "execution_count": 38,
   "metadata": {},
   "outputs": [],
   "source": [
    "# COUNTY, MUNICIPALITY?, CITY, (DISTRICT)*, STREET_ADDRESS\n",
    "# I think we will try to go with the first two fields for county and municipality or city, then take the last field for a street address\n",
    "def extract_address_components(address):\n",
    "    parts = address.split(',')\n",
    "    county = parts[0].strip()\n",
    "    # replacing \"vald\" (abbr. for municipality) reduces complexity and unique variables while resulting a small data loss that the street address often solves\n",
    "    mun_or_city = parts[1].replace(' vald', '').strip()\n",
    "    # replacing \"tn\" (abbreviation for street) makes it more suitable for different APIs, for example, OpenStreetMap, if we decide to use that\n",
    "    street_adr = parts[-1].replace(' tn', '').strip()\n",
    "    return county, mun_or_city, street_adr\n",
    "\n",
    "data[['county', 'mun_or_city', 'street_adr']] = data['listing_link'].apply(lambda x: pd.Series(extract_address_components(x)))\n",
    "data = data.drop(['listing_link'], axis=1)"
   ]
  },
  {
   "cell_type": "code",
   "execution_count": 39,
   "metadata": {},
   "outputs": [
    {
     "data": {
      "text/plain": [
       "array(['Voorimehe 1', 'Kivi 25', 'Oru 2', 'Papli 20', 'Pikaliiva 5',\n",
       "       'Väike-Patarei 1/3', 'Pebre 3', 'Õismäe tee 175', 'Turu 29',\n",
       "       'Mahla 67', 'Kotka 1', 'Aasa 5', 'Mere pst 4', 'Riia 26',\n",
       "       'Keskuse 12', 'Pärnu mnt 32', 'Ravila 48', 'Kesk 11', 'Koidula 26',\n",
       "       'Suur-Lossi 16', 'Tõnismägi 11a', 'Pikk 40', 'Pikk 33',\n",
       "       'Koidu 62--', 'Hane 4-7', 'Valli 4', 'Meierei 30', 'Randla 13',\n",
       "       'Raua 34', 'Asunduse 9', 'Ahtme mnt 57', 'Kuklase 3', 'Raadiku 14',\n",
       "       'Pilve 4-16', 'Aiandi 5/3', 'J. Sütiste tee 39', 'Ümera',\n",
       "       'Sõmera 4a', 'Mäealuse 9', 'Riia 9', 'Tamme 24', 'Dunkri 2',\n",
       "       'Vanemuise', 'Pallasti 33', 'Talli 2', 'Pargi 1', 'Rüütli 22',\n",
       "       'A. Puškini 51', 'Puiestee', 'Kangelaste prospekt 10a',\n",
       "       'F. R. Faehlmanni 8', 'F. R. Faehlmanni 6', 'Kalda tee 14',\n",
       "       'Kungla 18', 'J. V. Jannseni 4', 'Pille 7/4', 'Uus 13c',\n",
       "       'Hariduse 12', 'Tildri 7', 'Pikk 5', 'Partisani 9', 'Pärnu mnt 33',\n",
       "       'Lutsu 14', 'Kooli 6a', 'Vallikraavi 10', 'Merivälja tee 70',\n",
       "       'Pilve 4-13', 'Kopli tee 28', 'Puiestee 112a', 'Vana Kalamaja 10',\n",
       "       'Põhja allee 11-31', 'Varbola keskus 77', 'Volta 34',\n",
       "       'J. Sütiste tee 26', 'Aiandi 11/1-29b', 'Tiigi 6', 'Sõjakooli 14',\n",
       "       'Uus-Kalamaja 7/1', 'Väike-Kaar 43', 'KALDA tee', 'Kesk 22',\n",
       "       'Laine 8', 'Saturni 14', 'Erika 7', 'Lai 35', 'Allveelaeva 4',\n",
       "       'Liivamäe 6', 'J. Kuperjanovi 8', 'Vabriku 13', 'Karja 3',\n",
       "       'Puhangu 8', 'Pikk 22-4', 'Aasa 12', 'Laki 24', 'Kanali 8F',\n",
       "       'Pepleri 23', 'Kreutzwaldi 13', 'Järve 33', 'Kivi 9', 'Küüni 4'],\n",
       "      dtype=object)"
      ]
     },
     "execution_count": 39,
     "metadata": {},
     "output_type": "execute_result"
    }
   ],
   "source": [
    "data.street_adr.unique()[:100]"
   ]
  },
  {
   "cell_type": "markdown",
   "metadata": {},
   "source": [
    "## Extracting info from summary                 "
   ]
  },
  {
   "cell_type": "code",
   "execution_count": 40,
   "metadata": {},
   "outputs": [
    {
     "name": "stdout",
     "output_type": "stream",
     "text": [
      "<class 'pandas.core.frame.DataFrame'>\n",
      "Index: 2655 entries, 0 to 2675\n",
      "Data columns (total 25 columns):\n",
      " #   Column              Non-Null Count  Dtype  \n",
      "---  ------              --------------  -----  \n",
      " 0   listing_link_href   2655 non-null   object \n",
      " 1   price               2655 non-null   float64\n",
      " 2   rooms               2646 non-null   float64\n",
      " 3   area                2655 non-null   float64\n",
      " 4   build_year          2066 non-null   float64\n",
      " 5   condition           2435 non-null   float64\n",
      " 6   energy_mark         1207 non-null   float64\n",
      " 7   summary             2654 non-null   object \n",
      " 8   description         2612 non-null   object \n",
      " 9   bedrooms            1836 non-null   float64\n",
      " 10  description_header  2266 non-null   object \n",
      " 11  prepayment          560 non-null    float64\n",
      " 12  images_link_href    2653 non-null   object \n",
      " 13  floor               2475 non-null   float64\n",
      " 14  total_floors        2475 non-null   float64\n",
      " 15  price_per_m2        2655 non-null   float64\n",
      " 16  copy_not_allowed    2655 non-null   bool   \n",
      " 17  no_broker_allowed   2655 non-null   bool   \n",
      " 18  images_attached     2653 non-null   float64\n",
      " 19  is_owner            2655 non-null   bool   \n",
      " 20  utility_summer      855 non-null    float64\n",
      " 21  utility_winter      855 non-null    float64\n",
      " 22  county              2655 non-null   object \n",
      " 23  mun_or_city         2655 non-null   object \n",
      " 24  street_adr          2655 non-null   object \n",
      "dtypes: bool(3), float64(14), object(8)\n",
      "memory usage: 549.4+ KB\n"
     ]
    }
   ],
   "source": [
    "data.info()"
   ]
  },
  {
   "cell_type": "code",
   "execution_count": 41,
   "metadata": {},
   "outputs": [
    {
     "data": {
      "text/html": [
       "<div>\n",
       "<style scoped>\n",
       "    .dataframe tbody tr th:only-of-type {\n",
       "        vertical-align: middle;\n",
       "    }\n",
       "\n",
       "    .dataframe tbody tr th {\n",
       "        vertical-align: top;\n",
       "    }\n",
       "\n",
       "    .dataframe thead th {\n",
       "        text-align: right;\n",
       "    }\n",
       "</style>\n",
       "<table border=\"1\" class=\"dataframe\">\n",
       "  <thead>\n",
       "    <tr style=\"text-align: right;\">\n",
       "      <th></th>\n",
       "      <th>listing_link_href</th>\n",
       "      <th>price</th>\n",
       "      <th>rooms</th>\n",
       "      <th>area</th>\n",
       "      <th>build_year</th>\n",
       "      <th>condition</th>\n",
       "      <th>energy_mark</th>\n",
       "      <th>summary</th>\n",
       "      <th>description</th>\n",
       "      <th>bedrooms</th>\n",
       "      <th>...</th>\n",
       "      <th>price_per_m2</th>\n",
       "      <th>copy_not_allowed</th>\n",
       "      <th>no_broker_allowed</th>\n",
       "      <th>images_attached</th>\n",
       "      <th>is_owner</th>\n",
       "      <th>utility_summer</th>\n",
       "      <th>utility_winter</th>\n",
       "      <th>county</th>\n",
       "      <th>mun_or_city</th>\n",
       "      <th>street_adr</th>\n",
       "    </tr>\n",
       "  </thead>\n",
       "  <tbody>\n",
       "    <tr>\n",
       "      <th>0</th>\n",
       "      <td>https://www.kv.ee/uurile-anda-2toaline-korter-...</td>\n",
       "      <td>750.0</td>\n",
       "      <td>2.0</td>\n",
       "      <td>42.1</td>\n",
       "      <td>1807.0</td>\n",
       "      <td>4.0</td>\n",
       "      <td>NaN</td>\n",
       "      <td>Kivimaja\\r\\n\\r\\nKöök: elektripliit, avatud köö...</td>\n",
       "      <td>Üürile anda 2-toaline korter Raekoja platsil.\\...</td>\n",
       "      <td>NaN</td>\n",
       "      <td>...</td>\n",
       "      <td>17.80</td>\n",
       "      <td>False</td>\n",
       "      <td>False</td>\n",
       "      <td>29.0</td>\n",
       "      <td>False</td>\n",
       "      <td>NaN</td>\n",
       "      <td>NaN</td>\n",
       "      <td>Harjumaa</td>\n",
       "      <td>Tallinn</td>\n",
       "      <td>Voorimehe 1</td>\n",
       "    </tr>\n",
       "    <tr>\n",
       "      <th>1</th>\n",
       "      <td>https://www.kv.ee/mobleeritud-paikeseline-3toa...</td>\n",
       "      <td>595.0</td>\n",
       "      <td>3.0</td>\n",
       "      <td>58.7</td>\n",
       "      <td>2005.0</td>\n",
       "      <td>3.0</td>\n",
       "      <td>NaN</td>\n",
       "      <td>Korteriomand, kivimaja\\r\\n\\r\\nKöök: keraamilin...</td>\n",
       "      <td>Möbleeritud päikeseline 3-toaline rõduga korte...</td>\n",
       "      <td>2.0</td>\n",
       "      <td>...</td>\n",
       "      <td>10.10</td>\n",
       "      <td>False</td>\n",
       "      <td>False</td>\n",
       "      <td>14.0</td>\n",
       "      <td>False</td>\n",
       "      <td>NaN</td>\n",
       "      <td>NaN</td>\n",
       "      <td>Tartumaa</td>\n",
       "      <td>Tartu</td>\n",
       "      <td>Kivi 25</td>\n",
       "    </tr>\n",
       "    <tr>\n",
       "      <th>2</th>\n",
       "      <td>https://www.kv.ee/uurile-anda-kesklinnas-asuv-...</td>\n",
       "      <td>670.0</td>\n",
       "      <td>2.0</td>\n",
       "      <td>72.0</td>\n",
       "      <td>NaN</td>\n",
       "      <td>4.0</td>\n",
       "      <td>NaN</td>\n",
       "      <td>Korteriomand, kivimaja\\r\\n\\r\\nKöök: gaasipliit...</td>\n",
       "      <td>Üürile anda kesklinnas asuv 2- toaline, 72m² s...</td>\n",
       "      <td>1.0</td>\n",
       "      <td>...</td>\n",
       "      <td>9.31</td>\n",
       "      <td>False</td>\n",
       "      <td>False</td>\n",
       "      <td>19.0</td>\n",
       "      <td>False</td>\n",
       "      <td>NaN</td>\n",
       "      <td>NaN</td>\n",
       "      <td>Tartumaa</td>\n",
       "      <td>Tartu</td>\n",
       "      <td>Oru 2</td>\n",
       "    </tr>\n",
       "    <tr>\n",
       "      <th>3</th>\n",
       "      <td>https://www.kv.ee/uus-hind-uurile-anda-kohesel...</td>\n",
       "      <td>450.0</td>\n",
       "      <td>2.0</td>\n",
       "      <td>48.0</td>\n",
       "      <td>2003.0</td>\n",
       "      <td>3.0</td>\n",
       "      <td>NaN</td>\n",
       "      <td>Korteriomand, kivimaja\\r\\n\\r\\nKöök: keraamilin...</td>\n",
       "      <td>UUS HIND!\\r\\n Üürile anda koheselt kahetoaline...</td>\n",
       "      <td>1.0</td>\n",
       "      <td>...</td>\n",
       "      <td>9.38</td>\n",
       "      <td>False</td>\n",
       "      <td>False</td>\n",
       "      <td>14.0</td>\n",
       "      <td>False</td>\n",
       "      <td>NaN</td>\n",
       "      <td>NaN</td>\n",
       "      <td>Pärnumaa</td>\n",
       "      <td>Pärnu</td>\n",
       "      <td>Papli 20</td>\n",
       "    </tr>\n",
       "    <tr>\n",
       "      <th>4</th>\n",
       "      <td>https://www.kv.ee/korter-vabaneb-alates-01-11-...</td>\n",
       "      <td>550.0</td>\n",
       "      <td>1.0</td>\n",
       "      <td>24.0</td>\n",
       "      <td>2023.0</td>\n",
       "      <td>5.0</td>\n",
       "      <td>7.0</td>\n",
       "      <td>Korteriomand, kivimaja\\r\\n\\r\\nLisainfo: parkim...</td>\n",
       "      <td>Korter vabaneb alates 01.11.2024\\r\\n\\r\\nÜürile...</td>\n",
       "      <td>1.0</td>\n",
       "      <td>...</td>\n",
       "      <td>22.90</td>\n",
       "      <td>False</td>\n",
       "      <td>False</td>\n",
       "      <td>38.0</td>\n",
       "      <td>False</td>\n",
       "      <td>NaN</td>\n",
       "      <td>NaN</td>\n",
       "      <td>Harjumaa</td>\n",
       "      <td>Tallinn</td>\n",
       "      <td>Pikaliiva 5</td>\n",
       "    </tr>\n",
       "    <tr>\n",
       "      <th>...</th>\n",
       "      <td>...</td>\n",
       "      <td>...</td>\n",
       "      <td>...</td>\n",
       "      <td>...</td>\n",
       "      <td>...</td>\n",
       "      <td>...</td>\n",
       "      <td>...</td>\n",
       "      <td>...</td>\n",
       "      <td>...</td>\n",
       "      <td>...</td>\n",
       "      <td>...</td>\n",
       "      <td>...</td>\n",
       "      <td>...</td>\n",
       "      <td>...</td>\n",
       "      <td>...</td>\n",
       "      <td>...</td>\n",
       "      <td>...</td>\n",
       "      <td>...</td>\n",
       "      <td>...</td>\n",
       "      <td>...</td>\n",
       "      <td>...</td>\n",
       "    </tr>\n",
       "    <tr>\n",
       "      <th>2671</th>\n",
       "      <td>https://www.kv.ee/sind-ootab-maitsekalt-sisust...</td>\n",
       "      <td>790.0</td>\n",
       "      <td>2.0</td>\n",
       "      <td>45.8</td>\n",
       "      <td>2022.0</td>\n",
       "      <td>5.0</td>\n",
       "      <td>7.0</td>\n",
       "      <td>Korteriomand, kivimaja\\r\\n\\r\\nSanruum: dušš, p...</td>\n",
       "      <td>Sind ootab maitsekalt sisustatud mugava planee...</td>\n",
       "      <td>1.0</td>\n",
       "      <td>...</td>\n",
       "      <td>17.30</td>\n",
       "      <td>False</td>\n",
       "      <td>False</td>\n",
       "      <td>43.0</td>\n",
       "      <td>False</td>\n",
       "      <td>NaN</td>\n",
       "      <td>NaN</td>\n",
       "      <td>Harjumaa</td>\n",
       "      <td>Tallinn</td>\n",
       "      <td>Pagi 5</td>\n",
       "    </tr>\n",
       "    <tr>\n",
       "      <th>2672</th>\n",
       "      <td>https://www.kv.ee/suur-tanu-huvi-tundmast-maju...</td>\n",
       "      <td>459.0</td>\n",
       "      <td>1.0</td>\n",
       "      <td>21.0</td>\n",
       "      <td>2019.0</td>\n",
       "      <td>5.0</td>\n",
       "      <td>NaN</td>\n",
       "      <td>Kivimaja\\r\\n\\r\\nKöök: elektripliit, avatud köö...</td>\n",
       "      <td>Suur tänu huvi tundmast majutusvõimaluse vastu...</td>\n",
       "      <td>NaN</td>\n",
       "      <td>...</td>\n",
       "      <td>21.90</td>\n",
       "      <td>False</td>\n",
       "      <td>False</td>\n",
       "      <td>19.0</td>\n",
       "      <td>False</td>\n",
       "      <td>NaN</td>\n",
       "      <td>NaN</td>\n",
       "      <td>Harjumaa</td>\n",
       "      <td>Tallinn</td>\n",
       "      <td>Liimi 1b</td>\n",
       "    </tr>\n",
       "    <tr>\n",
       "      <th>2673</th>\n",
       "      <td>https://www.kv.ee/uurnikke-asub-otsima-keskmis...</td>\n",
       "      <td>500.0</td>\n",
       "      <td>1.0</td>\n",
       "      <td>32.9</td>\n",
       "      <td>1994.0</td>\n",
       "      <td>5.0</td>\n",
       "      <td>4.0</td>\n",
       "      <td>Korteriomand, paneelmaja\\r\\n\\r\\nKöök: elektrip...</td>\n",
       "      <td>Üürnikke asub otsima keskmisest suurem 1-toali...</td>\n",
       "      <td>1.0</td>\n",
       "      <td>...</td>\n",
       "      <td>15.20</td>\n",
       "      <td>False</td>\n",
       "      <td>False</td>\n",
       "      <td>19.0</td>\n",
       "      <td>False</td>\n",
       "      <td>50.0</td>\n",
       "      <td>90.0</td>\n",
       "      <td>Harjumaa</td>\n",
       "      <td>Tallinn</td>\n",
       "      <td>Liivamäe 2</td>\n",
       "    </tr>\n",
       "    <tr>\n",
       "      <th>2674</th>\n",
       "      <td>https://www.kv.ee/suur-tanu-huvi-tundmast-maju...</td>\n",
       "      <td>419.0</td>\n",
       "      <td>1.0</td>\n",
       "      <td>16.0</td>\n",
       "      <td>2019.0</td>\n",
       "      <td>5.0</td>\n",
       "      <td>NaN</td>\n",
       "      <td>Kivimaja\\r\\n\\r\\nKöök: elektripliit, avatud köö...</td>\n",
       "      <td>Suur tänu huvi tundmast majutusvõimaluse vastu...</td>\n",
       "      <td>NaN</td>\n",
       "      <td>...</td>\n",
       "      <td>26.20</td>\n",
       "      <td>False</td>\n",
       "      <td>False</td>\n",
       "      <td>15.0</td>\n",
       "      <td>False</td>\n",
       "      <td>NaN</td>\n",
       "      <td>NaN</td>\n",
       "      <td>Harjumaa</td>\n",
       "      <td>Tallinn</td>\n",
       "      <td>Liimi 1b</td>\n",
       "    </tr>\n",
       "    <tr>\n",
       "      <th>2675</th>\n",
       "      <td>https://www.kv.ee/korter-on-osaliselt-mobleeri...</td>\n",
       "      <td>650.0</td>\n",
       "      <td>2.0</td>\n",
       "      <td>40.0</td>\n",
       "      <td>2023.0</td>\n",
       "      <td>5.0</td>\n",
       "      <td>8.0</td>\n",
       "      <td>Korteriomand, kivimaja\\r\\n\\r\\nLisainfo: rõdu 1...</td>\n",
       "      <td>Korter on osaliselt möbleeritud. Paigaldatud o...</td>\n",
       "      <td>1.0</td>\n",
       "      <td>...</td>\n",
       "      <td>16.30</td>\n",
       "      <td>False</td>\n",
       "      <td>False</td>\n",
       "      <td>13.0</td>\n",
       "      <td>False</td>\n",
       "      <td>NaN</td>\n",
       "      <td>NaN</td>\n",
       "      <td>Harjumaa</td>\n",
       "      <td>Rae</td>\n",
       "      <td>Dolomiidi tee 2/3-18</td>\n",
       "    </tr>\n",
       "  </tbody>\n",
       "</table>\n",
       "<p>2655 rows × 25 columns</p>\n",
       "</div>"
      ],
      "text/plain": [
       "                                      listing_link_href  price  rooms  area  \\\n",
       "0     https://www.kv.ee/uurile-anda-2toaline-korter-...  750.0    2.0  42.1   \n",
       "1     https://www.kv.ee/mobleeritud-paikeseline-3toa...  595.0    3.0  58.7   \n",
       "2     https://www.kv.ee/uurile-anda-kesklinnas-asuv-...  670.0    2.0  72.0   \n",
       "3     https://www.kv.ee/uus-hind-uurile-anda-kohesel...  450.0    2.0  48.0   \n",
       "4     https://www.kv.ee/korter-vabaneb-alates-01-11-...  550.0    1.0  24.0   \n",
       "...                                                 ...    ...    ...   ...   \n",
       "2671  https://www.kv.ee/sind-ootab-maitsekalt-sisust...  790.0    2.0  45.8   \n",
       "2672  https://www.kv.ee/suur-tanu-huvi-tundmast-maju...  459.0    1.0  21.0   \n",
       "2673  https://www.kv.ee/uurnikke-asub-otsima-keskmis...  500.0    1.0  32.9   \n",
       "2674  https://www.kv.ee/suur-tanu-huvi-tundmast-maju...  419.0    1.0  16.0   \n",
       "2675  https://www.kv.ee/korter-on-osaliselt-mobleeri...  650.0    2.0  40.0   \n",
       "\n",
       "      build_year  condition  energy_mark  \\\n",
       "0         1807.0        4.0          NaN   \n",
       "1         2005.0        3.0          NaN   \n",
       "2            NaN        4.0          NaN   \n",
       "3         2003.0        3.0          NaN   \n",
       "4         2023.0        5.0          7.0   \n",
       "...          ...        ...          ...   \n",
       "2671      2022.0        5.0          7.0   \n",
       "2672      2019.0        5.0          NaN   \n",
       "2673      1994.0        5.0          4.0   \n",
       "2674      2019.0        5.0          NaN   \n",
       "2675      2023.0        5.0          8.0   \n",
       "\n",
       "                                                summary  \\\n",
       "0     Kivimaja\\r\\n\\r\\nKöök: elektripliit, avatud köö...   \n",
       "1     Korteriomand, kivimaja\\r\\n\\r\\nKöök: keraamilin...   \n",
       "2     Korteriomand, kivimaja\\r\\n\\r\\nKöök: gaasipliit...   \n",
       "3     Korteriomand, kivimaja\\r\\n\\r\\nKöök: keraamilin...   \n",
       "4     Korteriomand, kivimaja\\r\\n\\r\\nLisainfo: parkim...   \n",
       "...                                                 ...   \n",
       "2671  Korteriomand, kivimaja\\r\\n\\r\\nSanruum: dušš, p...   \n",
       "2672  Kivimaja\\r\\n\\r\\nKöök: elektripliit, avatud köö...   \n",
       "2673  Korteriomand, paneelmaja\\r\\n\\r\\nKöök: elektrip...   \n",
       "2674  Kivimaja\\r\\n\\r\\nKöök: elektripliit, avatud köö...   \n",
       "2675  Korteriomand, kivimaja\\r\\n\\r\\nLisainfo: rõdu 1...   \n",
       "\n",
       "                                            description  bedrooms  ...  \\\n",
       "0     Üürile anda 2-toaline korter Raekoja platsil.\\...       NaN  ...   \n",
       "1     Möbleeritud päikeseline 3-toaline rõduga korte...       2.0  ...   \n",
       "2     Üürile anda kesklinnas asuv 2- toaline, 72m² s...       1.0  ...   \n",
       "3     UUS HIND!\\r\\n Üürile anda koheselt kahetoaline...       1.0  ...   \n",
       "4     Korter vabaneb alates 01.11.2024\\r\\n\\r\\nÜürile...       1.0  ...   \n",
       "...                                                 ...       ...  ...   \n",
       "2671  Sind ootab maitsekalt sisustatud mugava planee...       1.0  ...   \n",
       "2672  Suur tänu huvi tundmast majutusvõimaluse vastu...       NaN  ...   \n",
       "2673  Üürnikke asub otsima keskmisest suurem 1-toali...       1.0  ...   \n",
       "2674  Suur tänu huvi tundmast majutusvõimaluse vastu...       NaN  ...   \n",
       "2675  Korter on osaliselt möbleeritud. Paigaldatud o...       1.0  ...   \n",
       "\n",
       "     price_per_m2  copy_not_allowed no_broker_allowed  images_attached  \\\n",
       "0           17.80             False             False             29.0   \n",
       "1           10.10             False             False             14.0   \n",
       "2            9.31             False             False             19.0   \n",
       "3            9.38             False             False             14.0   \n",
       "4           22.90             False             False             38.0   \n",
       "...           ...               ...               ...              ...   \n",
       "2671        17.30             False             False             43.0   \n",
       "2672        21.90             False             False             19.0   \n",
       "2673        15.20             False             False             19.0   \n",
       "2674        26.20             False             False             15.0   \n",
       "2675        16.30             False             False             13.0   \n",
       "\n",
       "      is_owner  utility_summer  utility_winter    county  mun_or_city  \\\n",
       "0        False             NaN             NaN  Harjumaa      Tallinn   \n",
       "1        False             NaN             NaN  Tartumaa        Tartu   \n",
       "2        False             NaN             NaN  Tartumaa        Tartu   \n",
       "3        False             NaN             NaN  Pärnumaa        Pärnu   \n",
       "4        False             NaN             NaN  Harjumaa      Tallinn   \n",
       "...        ...             ...             ...       ...          ...   \n",
       "2671     False             NaN             NaN  Harjumaa      Tallinn   \n",
       "2672     False             NaN             NaN  Harjumaa      Tallinn   \n",
       "2673     False            50.0            90.0  Harjumaa      Tallinn   \n",
       "2674     False             NaN             NaN  Harjumaa      Tallinn   \n",
       "2675     False             NaN             NaN  Harjumaa          Rae   \n",
       "\n",
       "                street_adr  \n",
       "0              Voorimehe 1  \n",
       "1                  Kivi 25  \n",
       "2                    Oru 2  \n",
       "3                 Papli 20  \n",
       "4              Pikaliiva 5  \n",
       "...                    ...  \n",
       "2671                Pagi 5  \n",
       "2672              Liimi 1b  \n",
       "2673            Liivamäe 2  \n",
       "2674              Liimi 1b  \n",
       "2675  Dolomiidi tee 2/3-18  \n",
       "\n",
       "[2655 rows x 25 columns]"
      ]
     },
     "execution_count": 41,
     "metadata": {},
     "output_type": "execute_result"
    }
   ],
   "source": [
    "data"
   ]
  },
  {
   "cell_type": "code",
   "execution_count": 42,
   "metadata": {},
   "outputs": [],
   "source": [
    "# TODO"
   ]
  },
  {
   "cell_type": "markdown",
   "metadata": {},
   "source": [
    "## Extracting info from description"
   ]
  },
  {
   "cell_type": "code",
   "execution_count": 43,
   "metadata": {},
   "outputs": [],
   "source": [
    "# TODO"
   ]
  },
  {
   "cell_type": "markdown",
   "metadata": {},
   "source": [
    "## Extract info from description header - is it in all caps (bool)? Count !? and something like that maybe?"
   ]
  },
  {
   "cell_type": "code",
   "execution_count": 44,
   "metadata": {},
   "outputs": [],
   "source": [
    "# TODO"
   ]
  },
  {
   "cell_type": "markdown",
   "metadata": {},
   "source": [
    "## Determine whether to try to analyse pictures from images_link_href and assign a rating to those"
   ]
  },
  {
   "cell_type": "code",
   "execution_count": 45,
   "metadata": {},
   "outputs": [],
   "source": [
    "# TODO"
   ]
  },
  {
   "cell_type": "markdown",
   "metadata": {},
   "source": [
    "## Remove links (listing_link_href, images_link_href) before fitting"
   ]
  },
  {
   "cell_type": "code",
   "execution_count": 46,
   "metadata": {},
   "outputs": [],
   "source": [
    "# TODO"
   ]
  }
 ],
 "metadata": {
  "kernelspec": {
   "display_name": "Python 3 (ipykernel)",
   "language": "python",
   "name": "python3"
  },
  "language_info": {
   "codemirror_mode": {
    "name": "ipython",
    "version": 3
   },
   "file_extension": ".py",
   "mimetype": "text/x-python",
   "name": "python",
   "nbconvert_exporter": "python",
   "pygments_lexer": "ipython3",
   "version": "3.12.5"
  }
 },
 "nbformat": 4,
 "nbformat_minor": 4
}
