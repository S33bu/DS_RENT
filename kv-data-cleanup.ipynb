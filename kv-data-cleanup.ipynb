{
 "cells": [
  {
   "cell_type": "markdown",
   "metadata": {},
   "source": [
    "# KV Data Cleanup"
   ]
  },
  {
   "cell_type": "markdown",
   "metadata": {},
   "source": [
    "## Starting up"
   ]
  },
  {
   "cell_type": "code",
   "execution_count": 2,
   "metadata": {},
   "outputs": [
    {
     "name": "stdout",
     "output_type": "stream",
     "text": [
      "Defaulting to user installation because normal site-packages is not writeable\n",
      "Requirement already satisfied: matplotlib in c:\\users\\kasutaja\\appdata\\local\\packages\\pythonsoftwarefoundation.python.3.12_qbz5n2kfra8p0\\localcache\\local-packages\\python312\\site-packages (3.9.2)\n",
      "Requirement already satisfied: contourpy>=1.0.1 in c:\\users\\kasutaja\\appdata\\local\\packages\\pythonsoftwarefoundation.python.3.12_qbz5n2kfra8p0\\localcache\\local-packages\\python312\\site-packages (from matplotlib) (1.3.1)\n",
      "Requirement already satisfied: cycler>=0.10 in c:\\users\\kasutaja\\appdata\\local\\packages\\pythonsoftwarefoundation.python.3.12_qbz5n2kfra8p0\\localcache\\local-packages\\python312\\site-packages (from matplotlib) (0.12.1)\n",
      "Requirement already satisfied: fonttools>=4.22.0 in c:\\users\\kasutaja\\appdata\\local\\packages\\pythonsoftwarefoundation.python.3.12_qbz5n2kfra8p0\\localcache\\local-packages\\python312\\site-packages (from matplotlib) (4.55.0)\n",
      "Requirement already satisfied: kiwisolver>=1.3.1 in c:\\users\\kasutaja\\appdata\\local\\packages\\pythonsoftwarefoundation.python.3.12_qbz5n2kfra8p0\\localcache\\local-packages\\python312\\site-packages (from matplotlib) (1.4.7)\n",
      "Requirement already satisfied: numpy>=1.23 in c:\\users\\kasutaja\\appdata\\local\\packages\\pythonsoftwarefoundation.python.3.12_qbz5n2kfra8p0\\localcache\\local-packages\\python312\\site-packages (from matplotlib) (2.1.1)\n",
      "Requirement already satisfied: packaging>=20.0 in c:\\users\\kasutaja\\appdata\\local\\packages\\pythonsoftwarefoundation.python.3.12_qbz5n2kfra8p0\\localcache\\local-packages\\python312\\site-packages (from matplotlib) (24.2)\n",
      "Requirement already satisfied: pillow>=8 in c:\\users\\kasutaja\\appdata\\local\\packages\\pythonsoftwarefoundation.python.3.12_qbz5n2kfra8p0\\localcache\\local-packages\\python312\\site-packages (from matplotlib) (11.0.0)\n",
      "Requirement already satisfied: pyparsing>=2.3.1 in c:\\users\\kasutaja\\appdata\\local\\packages\\pythonsoftwarefoundation.python.3.12_qbz5n2kfra8p0\\localcache\\local-packages\\python312\\site-packages (from matplotlib) (3.2.0)\n",
      "Requirement already satisfied: python-dateutil>=2.7 in c:\\users\\kasutaja\\appdata\\local\\packages\\pythonsoftwarefoundation.python.3.12_qbz5n2kfra8p0\\localcache\\local-packages\\python312\\site-packages (from matplotlib) (2.9.0.post0)\n",
      "Requirement already satisfied: six>=1.5 in c:\\users\\kasutaja\\appdata\\local\\packages\\pythonsoftwarefoundation.python.3.12_qbz5n2kfra8p0\\localcache\\local-packages\\python312\\site-packages (from python-dateutil>=2.7->matplotlib) (1.16.0)\n",
      "Note: you may need to restart the kernel to use updated packages.\n"
     ]
    },
    {
     "name": "stderr",
     "output_type": "stream",
     "text": [
      "\n",
      "[notice] A new release of pip is available: 24.2 -> 24.3.1\n",
      "[notice] To update, run: C:\\Users\\Kasutaja\\AppData\\Local\\Microsoft\\WindowsApps\\PythonSoftwareFoundation.Python.3.12_qbz5n2kfra8p0\\python.exe -m pip install --upgrade pip\n"
     ]
    }
   ],
   "source": [
    "%pip install matplotlib"
   ]
  },
  {
   "cell_type": "code",
   "execution_count": 3,
   "metadata": {},
   "outputs": [],
   "source": [
    "import pandas as pd\n",
    "import numpy as np\n",
    "import matplotlib.pyplot as plt"
   ]
  },
  {
   "cell_type": "code",
   "execution_count": 53,
   "metadata": {},
   "outputs": [],
   "source": [
    "data = pd.read_csv(\"kv-rent-data-16-11-2024.csv\")"
   ]
  },
  {
   "cell_type": "code",
   "execution_count": 25,
   "metadata": {},
   "outputs": [
    {
     "name": "stdout",
     "output_type": "stream",
     "text": [
      "<class 'pandas.core.frame.DataFrame'>\n",
      "RangeIndex: 2676 entries, 0 to 2675\n",
      "Data columns (total 25 columns):\n",
      " #   Column                  Non-Null Count  Dtype  \n",
      "---  ------                  --------------  -----  \n",
      " 0   web-scraper-order       2676 non-null   object \n",
      " 1   web-scraper-start-url   2676 non-null   object \n",
      " 2   listing-link            2676 non-null   object \n",
      " 3   listing-link-href       2676 non-null   object \n",
      " 4   address                 2676 non-null   object \n",
      " 5   price                   2676 non-null   object \n",
      " 6   rooms                   2667 non-null   float64\n",
      " 7   area                    2670 non-null   object \n",
      " 8   floor_out_of_floors     2494 non-null   object \n",
      " 9   build_year              2081 non-null   float64\n",
      " 10  condition               2456 non-null   object \n",
      " 11  energy_grade            2311 non-null   object \n",
      " 12  summary                 2675 non-null   object \n",
      " 13  description             2633 non-null   object \n",
      " 14  bedrooms                1848 non-null   float64\n",
      " 15  ownership-form          1923 non-null   object \n",
      " 16  katastrinumber          1710 non-null   object \n",
      " 17  description-header      2282 non-null   object \n",
      " 18  description-footer      2676 non-null   object \n",
      " 19  prepayment              637 non-null    object \n",
      " 20  summer-winter           862 non-null    object \n",
      " 21  owner-or-broker-banner  2673 non-null   object \n",
      " 22  registriosa-number      258 non-null    float64\n",
      " 23  images-link             2674 non-null   object \n",
      " 24  images-link-href        2674 non-null   object \n",
      "dtypes: float64(4), object(21)\n",
      "memory usage: 522.8+ KB\n"
     ]
    }
   ],
   "source": [
    "# As we can see, the situation is pretty bad by default.\n",
    "data.info()"
   ]
  },
  {
   "cell_type": "code",
   "execution_count": 26,
   "metadata": {},
   "outputs": [
    {
     "data": {
      "text/html": [
       "<div>\n",
       "<style scoped>\n",
       "    .dataframe tbody tr th:only-of-type {\n",
       "        vertical-align: middle;\n",
       "    }\n",
       "\n",
       "    .dataframe tbody tr th {\n",
       "        vertical-align: top;\n",
       "    }\n",
       "\n",
       "    .dataframe thead th {\n",
       "        text-align: right;\n",
       "    }\n",
       "</style>\n",
       "<table border=\"1\" class=\"dataframe\">\n",
       "  <thead>\n",
       "    <tr style=\"text-align: right;\">\n",
       "      <th></th>\n",
       "      <th>listing-link</th>\n",
       "      <th>listing-link-href</th>\n",
       "      <th>address</th>\n",
       "      <th>price</th>\n",
       "      <th>rooms</th>\n",
       "      <th>area</th>\n",
       "      <th>floor_out_of_floors</th>\n",
       "      <th>build_year</th>\n",
       "      <th>condition</th>\n",
       "      <th>energy_grade</th>\n",
       "      <th>...</th>\n",
       "      <th>ownership-form</th>\n",
       "      <th>katastrinumber</th>\n",
       "      <th>description-header</th>\n",
       "      <th>description-footer</th>\n",
       "      <th>prepayment</th>\n",
       "      <th>summer-winter</th>\n",
       "      <th>owner-or-broker-banner</th>\n",
       "      <th>registriosa-number</th>\n",
       "      <th>images-link</th>\n",
       "      <th>images-link-href</th>\n",
       "    </tr>\n",
       "  </thead>\n",
       "  <tbody>\n",
       "    <tr>\n",
       "      <th>0</th>\n",
       "      <td>Harjumaa, Tallinn, Vanalinn, Voorimehe tn 1</td>\n",
       "      <td>https://www.kv.ee/uurile-anda-2toaline-korter-...</td>\n",
       "      <td>Anda üürile korter, 2 tuba - Voorimehe tn 1, V...</td>\n",
       "      <td>750 €  17.8 €/m²</td>\n",
       "      <td>2.0</td>\n",
       "      <td>42.1 m²</td>\n",
       "      <td>01-Mar</td>\n",
       "      <td>1807.0</td>\n",
       "      <td>Renoveeritud</td>\n",
       "      <td>-</td>\n",
       "      <td>...</td>\n",
       "      <td>NaN</td>\n",
       "      <td>NaN</td>\n",
       "      <td>STUUDIOKORTER RAEKOJA PLATSIL!</td>\n",
       "      <td>Kuulutuse link     Kopeeri    Kopeeri</td>\n",
       "      <td>NaN</td>\n",
       "      <td>NaN</td>\n",
       "      <td>Ats Pihl   Realis OÜ</td>\n",
       "      <td>NaN</td>\n",
       "      <td>Kõik pildid (29)</td>\n",
       "      <td>https://www.kv.ee/object/images/3475992</td>\n",
       "    </tr>\n",
       "    <tr>\n",
       "      <th>1</th>\n",
       "      <td>Tartumaa, Tartu, Kesklinn, Kivi 25</td>\n",
       "      <td>https://www.kv.ee/mobleeritud-paikeseline-3toa...</td>\n",
       "      <td>Anda üürile korter, 3 tuba - Kivi 25, Kesklinn...</td>\n",
       "      <td>595 €  10.1 €/m²</td>\n",
       "      <td>3.0</td>\n",
       "      <td>58.7 m²</td>\n",
       "      <td>03-May</td>\n",
       "      <td>2005.0</td>\n",
       "      <td>Valmis</td>\n",
       "      <td>Puudub</td>\n",
       "      <td>...</td>\n",
       "      <td>Korteriomand</td>\n",
       "      <td>79514:018:0010</td>\n",
       "      <td>Möbleeritud rõduga korter, parkimiskoht.</td>\n",
       "      <td>Kuulutuse link     Kopeeri    Kopeeri</td>\n",
       "      <td>NaN</td>\n",
       "      <td>NaN</td>\n",
       "      <td>Kristel Leetsi   Kaanon Kinnisvarabüroo OÜ</td>\n",
       "      <td>NaN</td>\n",
       "      <td>Kõik pildid (14)</td>\n",
       "      <td>https://www.kv.ee/object/images/3696581</td>\n",
       "    </tr>\n",
       "    <tr>\n",
       "      <th>2</th>\n",
       "      <td>Tartumaa, Tartu, Tartu linn, Kesklinn, Oru 2</td>\n",
       "      <td>https://www.kv.ee/uurile-anda-kesklinnas-asuv-...</td>\n",
       "      <td>Anda üürile korter, 2 tuba - Oru 2, Kesklinn, ...</td>\n",
       "      <td>670 €  9.31 €/m²</td>\n",
       "      <td>2.0</td>\n",
       "      <td>72 m²</td>\n",
       "      <td>04-Apr</td>\n",
       "      <td>NaN</td>\n",
       "      <td>Renoveeritud</td>\n",
       "      <td>-</td>\n",
       "      <td>...</td>\n",
       "      <td>Korteriomand</td>\n",
       "      <td>NaN</td>\n",
       "      <td>NaN</td>\n",
       "      <td>Kuulutuse link     Kopeeri    Kopeeri</td>\n",
       "      <td>NaN</td>\n",
       "      <td>NaN</td>\n",
       "      <td>Rait Sinimäe   Raar Kinnisvara</td>\n",
       "      <td>NaN</td>\n",
       "      <td>Kõik pildid (19)</td>\n",
       "      <td>https://www.kv.ee/object/images/1543892</td>\n",
       "    </tr>\n",
       "    <tr>\n",
       "      <th>3</th>\n",
       "      <td>Pärnumaa, Pärnu, Pärnu linn, Rannarajoon, Papl...</td>\n",
       "      <td>https://www.kv.ee/uus-hind-uurile-anda-kohesel...</td>\n",
       "      <td>Anda üürile korter, 2 tuba - Papli 20, Rannara...</td>\n",
       "      <td>450 €  9.38 €/m²</td>\n",
       "      <td>2.0</td>\n",
       "      <td>48 m²</td>\n",
       "      <td>01-Feb</td>\n",
       "      <td>2003.0</td>\n",
       "      <td>Valmis</td>\n",
       "      <td>Puudub</td>\n",
       "      <td>...</td>\n",
       "      <td>Korteriomand</td>\n",
       "      <td>NaN</td>\n",
       "      <td>Pikaajalise üürile terrassiga korter rannarajo...</td>\n",
       "      <td>Kuulutuse link     Kopeeri    Kopeeri</td>\n",
       "      <td>NaN</td>\n",
       "      <td>NaN</td>\n",
       "      <td>Krista Järv   Lahe Kinnisvara</td>\n",
       "      <td>NaN</td>\n",
       "      <td>Kõik pildid (14)</td>\n",
       "      <td>https://www.kv.ee/object/images/3691815</td>\n",
       "    </tr>\n",
       "    <tr>\n",
       "      <th>4</th>\n",
       "      <td>Harjumaa, Tallinn, Haabersti, Pikaliiva tn 5</td>\n",
       "      <td>https://www.kv.ee/korter-vabaneb-alates-01-11-...</td>\n",
       "      <td>Anda üürile korter, 1 tuba - Pikaliiva tn 5, H...</td>\n",
       "      <td>550 €  22.9 €/m²</td>\n",
       "      <td>1.0</td>\n",
       "      <td>24 m²</td>\n",
       "      <td>03-Apr</td>\n",
       "      <td>2023.0</td>\n",
       "      <td>Uus</td>\n",
       "      <td>B</td>\n",
       "      <td>...</td>\n",
       "      <td>Korteriomand</td>\n",
       "      <td>78401:101:6960</td>\n",
       "      <td>Super Pakkumine! Parkimiskoht, panipaik hinnas!</td>\n",
       "      <td>Kuulutuse link     Kopeeri    Kopeeri</td>\n",
       "      <td>550 €</td>\n",
       "      <td>NaN</td>\n",
       "      <td>Stanislav Kostõljov   ByPro OÜ</td>\n",
       "      <td>NaN</td>\n",
       "      <td>Kõik pildid (38)</td>\n",
       "      <td>https://www.kv.ee/object/images/3637834</td>\n",
       "    </tr>\n",
       "  </tbody>\n",
       "</table>\n",
       "<p>5 rows × 23 columns</p>\n",
       "</div>"
      ],
      "text/plain": [
       "                                        listing-link  \\\n",
       "0        Harjumaa, Tallinn, Vanalinn, Voorimehe tn 1   \n",
       "1                 Tartumaa, Tartu, Kesklinn, Kivi 25   \n",
       "2       Tartumaa, Tartu, Tartu linn, Kesklinn, Oru 2   \n",
       "3  Pärnumaa, Pärnu, Pärnu linn, Rannarajoon, Papl...   \n",
       "4       Harjumaa, Tallinn, Haabersti, Pikaliiva tn 5   \n",
       "\n",
       "                                   listing-link-href  \\\n",
       "0  https://www.kv.ee/uurile-anda-2toaline-korter-...   \n",
       "1  https://www.kv.ee/mobleeritud-paikeseline-3toa...   \n",
       "2  https://www.kv.ee/uurile-anda-kesklinnas-asuv-...   \n",
       "3  https://www.kv.ee/uus-hind-uurile-anda-kohesel...   \n",
       "4  https://www.kv.ee/korter-vabaneb-alates-01-11-...   \n",
       "\n",
       "                                             address             price  rooms  \\\n",
       "0  Anda üürile korter, 2 tuba - Voorimehe tn 1, V...  750 €  17.8 €/m²    2.0   \n",
       "1  Anda üürile korter, 3 tuba - Kivi 25, Kesklinn...  595 €  10.1 €/m²    3.0   \n",
       "2  Anda üürile korter, 2 tuba - Oru 2, Kesklinn, ...  670 €  9.31 €/m²    2.0   \n",
       "3  Anda üürile korter, 2 tuba - Papli 20, Rannara...  450 €  9.38 €/m²    2.0   \n",
       "4  Anda üürile korter, 1 tuba - Pikaliiva tn 5, H...  550 €  22.9 €/m²    1.0   \n",
       "\n",
       "      area floor_out_of_floors  build_year     condition energy_grade  ...  \\\n",
       "0  42.1 m²              01-Mar      1807.0  Renoveeritud            -  ...   \n",
       "1  58.7 m²              03-May      2005.0        Valmis       Puudub  ...   \n",
       "2    72 m²              04-Apr         NaN  Renoveeritud            -  ...   \n",
       "3    48 m²              01-Feb      2003.0        Valmis       Puudub  ...   \n",
       "4    24 m²              03-Apr      2023.0           Uus            B  ...   \n",
       "\n",
       "  ownership-form  katastrinumber  \\\n",
       "0            NaN             NaN   \n",
       "1   Korteriomand  79514:018:0010   \n",
       "2   Korteriomand             NaN   \n",
       "3   Korteriomand             NaN   \n",
       "4   Korteriomand  78401:101:6960   \n",
       "\n",
       "                                  description-header  \\\n",
       "0                     STUUDIOKORTER RAEKOJA PLATSIL!   \n",
       "1           Möbleeritud rõduga korter, parkimiskoht.   \n",
       "2                                                NaN   \n",
       "3  Pikaajalise üürile terrassiga korter rannarajo...   \n",
       "4    Super Pakkumine! Parkimiskoht, panipaik hinnas!   \n",
       "\n",
       "                      description-footer prepayment summer-winter  \\\n",
       "0  Kuulutuse link     Kopeeri    Kopeeri        NaN           NaN   \n",
       "1  Kuulutuse link     Kopeeri    Kopeeri        NaN           NaN   \n",
       "2  Kuulutuse link     Kopeeri    Kopeeri        NaN           NaN   \n",
       "3  Kuulutuse link     Kopeeri    Kopeeri        NaN           NaN   \n",
       "4  Kuulutuse link     Kopeeri    Kopeeri      550 €           NaN   \n",
       "\n",
       "                       owner-or-broker-banner registriosa-number  \\\n",
       "0                        Ats Pihl   Realis OÜ                NaN   \n",
       "1  Kristel Leetsi   Kaanon Kinnisvarabüroo OÜ                NaN   \n",
       "2              Rait Sinimäe   Raar Kinnisvara                NaN   \n",
       "3               Krista Järv   Lahe Kinnisvara                NaN   \n",
       "4              Stanislav Kostõljov   ByPro OÜ                NaN   \n",
       "\n",
       "        images-link                         images-link-href  \n",
       "0  Kõik pildid (29)  https://www.kv.ee/object/images/3475992  \n",
       "1  Kõik pildid (14)  https://www.kv.ee/object/images/3696581  \n",
       "2  Kõik pildid (19)  https://www.kv.ee/object/images/1543892  \n",
       "3  Kõik pildid (14)  https://www.kv.ee/object/images/3691815  \n",
       "4  Kõik pildid (38)  https://www.kv.ee/object/images/3637834  \n",
       "\n",
       "[5 rows x 23 columns]"
      ]
     },
     "execution_count": 26,
     "metadata": {},
     "output_type": "execute_result"
    }
   ],
   "source": [
    "# Let's remove the Web Scraper columns\n",
    "data = data.drop(['web-scraper-order', 'web-scraper-start-url'], axis=1)\n",
    "data.head()"
   ]
  },
  {
   "cell_type": "markdown",
   "metadata": {},
   "source": [
    "## floor_out_of_floors deserves its own chapter - cell formatting is annoying"
   ]
  },
  {
   "cell_type": "code",
   "execution_count": 54,
   "metadata": {},
   "outputs": [
    {
     "data": {
      "text/plain": [
       "array(['01-Mar', '03-May', '04-Apr', '01-Feb', '03-Apr', '01-Apr',\n",
       "       '02-Mar', '05-May', '01-May', '04-May', '03-Mar', nan, '02-May',\n",
       "       '06-Jun', '03-Jun', '03-Jul', '04-Feb', '05-Jun', '02-Apr',\n",
       "       '02-Feb', '07-Sep', '04-Jun', '04-Sep', '06-Aug', '09-Sep',\n",
       "       '03-Aug', '04-Jul', '02-Jun', '08-Aug', '05-Jul', '01-Jun',\n",
       "       '01-Aug', '08-Dec', 'Dec-14', '03-Sep', '06-Jul', '01-Jan',\n",
       "       '08-Sep', '04-Aug', '13/30', 'May-14', '01-Sep', 'Apr-14',\n",
       "       '05-Oct', '18/23', '06-Sep', '15/30', '07-Aug', '05-Aug', 'Aug-15',\n",
       "       '05-Sep', '-0.25', '04-Oct', '02-Jan', '02-Jul', '10-Nov',\n",
       "       '02-Sep', 'Jul-16', 'Jun-14', 'Oct-19', 'Jun-13', '09-Dec',\n",
       "       'Feb-14', '10-Dec', '24/30', '15/16', 'Dec-13', '02-Aug', 'May-13',\n",
       "       '07-Nov', '14/20', 'Sep-14', 'Oct-17', '07-Jul', '09-Oct',\n",
       "       '03-Oct', '08-Oct', '03-Feb', '06-Dec', 'Jul-20', 'Nov-19',\n",
       "       'Jul-19', 'Jul-14', '14/14', 'Apr-22', '09-Nov', 'Jun-16',\n",
       "       'Dec-16', 'Apr-13', 'Dec-15', 'Aug-19', '04-Nov', '07-Oct',\n",
       "       '-0.333333333', 'Nov-14', '14/16', '02-Dec', '10-Oct', 'Nov-13',\n",
       "       '05-Dec', 'Mar-16', 'May-16', '17/17', '17/20', '02-Oct', '03-Dec',\n",
       "       'Nov-15', '09-Apr', 'Oct-14', '01-Jul', '15/19', 'Jul-13',\n",
       "       'Aug-16', 'Aug-18', '04-Dec', '03-Nov', '-0.2', 'Mar-14', 'Sep-23',\n",
       "       '11-Dec', '01-Oct', 'Dec-23'], dtype=object)"
      ]
     },
     "execution_count": 54,
     "metadata": {},
     "output_type": "execute_result"
    }
   ],
   "source": [
    "# floor_out_of_floors seems to have had a bit of a mishap. \n",
    "# they were automatically transformed to a date, but they were actually 1/5, 3/5, 1/2 etc.\n",
    "# let's separate all the columns that are easily separable - price, floor_out_of_floors\n",
    "# first, let's check the unique values.\n",
    "data['floor_out_of_floors'].unique()\n",
    "# most of them are pretty clear - Day-Month corresponds to FLOOR-TOTAL_FLOORS\n",
    "# some, however aren't clear: -0.25, -0.333333333, -0.2. These need to be checked individually."
   ]
  },
  {
   "cell_type": "code",
   "execution_count": 66,
   "metadata": {},
   "outputs": [
    {
     "data": {
      "text/plain": [
       "'https://www.kv.ee/tallinna-vanalinnas-laial-tanaval-1850-aastal-valm-3613092.html'"
      ]
     },
     "execution_count": 66,
     "metadata": {},
     "output_type": "execute_result"
    }
   ],
   "source": [
    "#data[data['floor_out_of_floors'] == '-0.25'].iloc[0]['listing-link-href'] # -0.25 is actually a basement floor -1/4\n",
    "#data[data['floor_out_of_floors'] == '-0.25'].iloc[1]['listing-link-href'] # -0.25 is actually a basement floor -1/4\n",
    "# ^ those two listings are actually the same apartment listing two times, \n",
    "# the links really are different, though.\n",
    "#data[data['floor_out_of_floors'] == '-0.333333333'].iloc[0]['listing-link-href'] # -0.333333333 is actually a basement floor -1/3\n",
    "#data[data['floor_out_of_floors'] == '-0.2'].iloc[0]['listing-link-href'] # -0.2 is actually a basement floor -1/5 "
   ]
  },
  {
   "cell_type": "code",
   "execution_count": null,
   "metadata": {},
   "outputs": [],
   "source": [
    "# The plan is the following (not the most optimal, but definitely won't break anything):\n",
    "# map -0.25, -0.333333333, -0.2 to -1/4, -1/3, -1/5\n",
    "# map [Jan, Feb, Mar,...] to [1,2,3,...] in each string\n",
    "# map - to / DANGER, map only once FROM RIGHT, otherwise negative floor numbers will be affected\n",
    "# check all unique values\n",
    "# if unique values are all good, then split from / and cast to int"
   ]
  },
  {
   "cell_type": "code",
   "execution_count": null,
   "metadata": {},
   "outputs": [],
   "source": [
    "data[['price', 'price_per_m2']] = data['price'].str.split('€ ', n=1, expand=True)\n",
    "data[['floor', 'total_floors']] = data['floor_out_of_floors'].str.split('-', expand=True)"
   ]
  },
  {
   "cell_type": "code",
   "execution_count": 38,
   "metadata": {},
   "outputs": [],
   "source": [
    "data = data.drop(['floor_out_of_floors'], axis=1)"
   ]
  },
  {
   "cell_type": "markdown",
   "metadata": {},
   "source": [
    "## area and price_per_m2"
   ]
  },
  {
   "cell_type": "code",
   "execution_count": 50,
   "metadata": {},
   "outputs": [],
   "source": [
    "# Let's strip m² from area and €/m² from price_per_m2\n",
    "data['area'] = data['area'].str.strip(' m²')\n",
    "data['price_per_m2'] = data['price_per_m2'].str.strip(' €/m²')"
   ]
  }
 ],
 "metadata": {
  "kernelspec": {
   "display_name": "Python 3",
   "language": "python",
   "name": "python3"
  },
  "language_info": {
   "codemirror_mode": {
    "name": "ipython",
    "version": 3
   },
   "file_extension": ".py",
   "mimetype": "text/x-python",
   "name": "python",
   "nbconvert_exporter": "python",
   "pygments_lexer": "ipython3",
   "version": "3.12.7"
  }
 },
 "nbformat": 4,
 "nbformat_minor": 2
}
